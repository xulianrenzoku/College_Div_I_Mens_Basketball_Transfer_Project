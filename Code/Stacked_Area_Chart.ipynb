{
 "cells": [
  {
   "cell_type": "code",
   "execution_count": 1,
   "metadata": {
    "ExecuteTime": {
     "end_time": "2019-05-14T00:32:00.101876Z",
     "start_time": "2019-05-14T00:31:59.257361Z"
    }
   },
   "outputs": [],
   "source": [
    "import pandas as pd\n",
    "import numpy as np\n",
    "from IPython.core.pylabtools import figsize\n",
    "from matplotlib import pyplot as plt\n",
    "from collections import Counter"
   ]
  },
  {
   "cell_type": "markdown",
   "metadata": {},
   "source": [
    "## Load the dataset"
   ]
  },
  {
   "cell_type": "code",
   "execution_count": 2,
   "metadata": {
    "ExecuteTime": {
     "end_time": "2019-05-14T00:32:00.168956Z",
     "start_time": "2019-05-14T00:32:00.104433Z"
    }
   },
   "outputs": [
    {
     "data": {
      "text/plain": [
       "(4891, 48)"
      ]
     },
     "execution_count": 2,
     "metadata": {},
     "output_type": "execute_result"
    }
   ],
   "source": [
    "# Load the transfer dataset\n",
    "transfer_df = pd.read_csv(\"../../TransfersWithStats.csv\")\\\n",
    "                .drop(\"Unnamed: 0\", axis=1)\n",
    "transfer_df.shape"
   ]
  },
  {
   "cell_type": "code",
   "execution_count": 3,
   "metadata": {
    "ExecuteTime": {
     "end_time": "2019-05-14T00:32:00.187438Z",
     "start_time": "2019-05-14T00:32:00.170880Z"
    }
   },
   "outputs": [
    {
     "data": {
      "text/plain": [
       "361"
      ]
     },
     "execution_count": 3,
     "metadata": {},
     "output_type": "execute_result"
    }
   ],
   "source": [
    "# Load the bucket dataset\n",
    "bucket_df = pd.read_csv(\"../../Corrected_School_List_Buckets.csv\")\\\n",
    "            [[\"TeamName\",'Definitive Bucket']]\n",
    "len(bucket_df) # number of Div. I schools"
   ]
  },
  {
   "cell_type": "markdown",
   "metadata": {},
   "source": [
    "## Bucket Functions"
   ]
  },
  {
   "cell_type": "code",
   "execution_count": 4,
   "metadata": {
    "ExecuteTime": {
     "end_time": "2019-05-14T00:32:00.197883Z",
     "start_time": "2019-05-14T00:32:00.191201Z"
    }
   },
   "outputs": [
    {
     "name": "stdout",
     "output_type": "stream",
     "text": [
      "5\n",
      "0\n"
     ]
    }
   ],
   "source": [
    "# Define a function that gets the rating of a program\n",
    "def get_bucket(school):\n",
    "    if school in bucket_df.TeamName.values:\n",
    "        return bucket_df[bucket_df.TeamName == school]\\\n",
    "                        [\"Definitive Bucket\"].values[0]\n",
    "    else:\n",
    "        return 0\n",
    "print(get_bucket(\"San Francisco\")) # test a Div.I program\n",
    "print(get_bucket(\"BYU-Hawaii\")) # test a non-Div.I program"
   ]
  },
  {
   "cell_type": "code",
   "execution_count": 5,
   "metadata": {
    "ExecuteTime": {
     "end_time": "2019-05-14T00:32:00.206653Z",
     "start_time": "2019-05-14T00:32:00.201406Z"
    }
   },
   "outputs": [
    {
     "name": "stdout",
     "output_type": "stream",
     "text": [
      "High-Majors\n"
     ]
    }
   ],
   "source": [
    "# Define a function that puts 1-9 scale into 3 wide buckets\n",
    "def getWideBucket(num):\n",
    "    if num < 4:\n",
    "        return \"Low-Majors\"\n",
    "    elif num < 7:\n",
    "        return \"Mid-Majors\"\n",
    "    else:\n",
    "        return \"High-Majors\"\n",
    "\n",
    "print(getWideBucket(9))"
   ]
  },
  {
   "cell_type": "markdown",
   "metadata": {},
   "source": [
    "## Data-Preprocessing"
   ]
  },
  {
   "cell_type": "code",
   "execution_count": 6,
   "metadata": {
    "ExecuteTime": {
     "end_time": "2019-05-14T00:32:00.220914Z",
     "start_time": "2019-05-14T00:32:00.210177Z"
    }
   },
   "outputs": [
    {
     "name": "stdout",
     "output_type": "stream",
     "text": [
      "4891 4569\n"
     ]
    }
   ],
   "source": [
    "# Filter out bad match\n",
    "transfer_df_adj = transfer_df[(transfer_df.Team == \\\n",
    "                               transfer_df.new_school_alias_match_pl) |\n",
    "                              (transfer_df.Team == \\\n",
    "                               transfer_df.prev_school_alias_match_pl)]\n",
    "print(transfer_df.shape[0], transfer_df_adj.shape[0])"
   ]
  },
  {
   "cell_type": "code",
   "execution_count": 7,
   "metadata": {
    "ExecuteTime": {
     "end_time": "2019-05-14T00:32:05.965607Z",
     "start_time": "2019-05-14T00:32:00.223724Z"
    }
   },
   "outputs": [
    {
     "name": "stderr",
     "output_type": "stream",
     "text": [
      "/Users/xulian/anaconda3/lib/python3.6/site-packages/ipykernel_launcher.py:5: SettingWithCopyWarning: \n",
      "A value is trying to be set on a copy of a slice from a DataFrame.\n",
      "Try using .loc[row_indexer,col_indexer] = value instead\n",
      "\n",
      "See the caveats in the documentation: http://pandas.pydata.org/pandas-docs/stable/indexing.html#indexing-view-versus-copy\n",
      "  \"\"\"\n",
      "/Users/xulian/anaconda3/lib/python3.6/site-packages/ipykernel_launcher.py:8: SettingWithCopyWarning: \n",
      "A value is trying to be set on a copy of a slice from a DataFrame.\n",
      "Try using .loc[row_indexer,col_indexer] = value instead\n",
      "\n",
      "See the caveats in the documentation: http://pandas.pydata.org/pandas-docs/stable/indexing.html#indexing-view-versus-copy\n",
      "  \n"
     ]
    }
   ],
   "source": [
    "# Get bucket for each row\n",
    "transfer_df_adj2 = transfer_df[transfer_df.Player != 'Anthony Horton']\n",
    "transfer_df_adj2[\"prev_school_bucket\"] = transfer_df_adj2.prev_school\\\n",
    "                                                         .apply(lambda x: x.replace('UNCG', 'UNC Greensboro'))\\\n",
    "                                                         .apply(get_bucket)\n",
    "transfer_df_adj2[\"new_school_bucket\"] = transfer_df_adj2.new_school\\\n",
    "                                                        .apply(lambda x: x.replace('UNCG', 'UNC Greensboro'))\\\n",
    "                                                        .apply(get_bucket)"
   ]
  },
  {
   "cell_type": "code",
   "execution_count": 8,
   "metadata": {
    "ExecuteTime": {
     "end_time": "2019-05-14T00:32:05.979012Z",
     "start_time": "2019-05-14T00:32:05.967937Z"
    }
   },
   "outputs": [
    {
     "name": "stdout",
     "output_type": "stream",
     "text": [
      "(4886, 50)\n",
      "128\n",
      "(4758, 50)\n"
     ]
    }
   ],
   "source": [
    "# Take out players that show up for only one row\n",
    "print(transfer_df_adj2.shape)\n",
    "transfer_season_cnt = Counter(transfer_df_adj2.Player)\n",
    "single_season_player_list = []\n",
    "for player in list(set(transfer_df_adj2.Player)):\n",
    "    if transfer_season_cnt[player] < 2:\n",
    "        single_season_player_list.append(player)\n",
    "print(len(single_season_player_list))\n",
    "transfer_df_adj3 = transfer_df_adj2[~transfer_df_adj2.Player.isin(single_season_player_list)]\n",
    "print(transfer_df_adj3.shape)"
   ]
  },
  {
   "cell_type": "code",
   "execution_count": 9,
   "metadata": {
    "ExecuteTime": {
     "end_time": "2019-05-14T00:32:05.991631Z",
     "start_time": "2019-05-14T00:32:05.982702Z"
    }
   },
   "outputs": [
    {
     "data": {
      "text/plain": [
       "(4127, 50)"
      ]
     },
     "execution_count": 9,
     "metadata": {},
     "output_type": "execute_result"
    }
   ],
   "source": [
    "# Filter out the 2018 record\n",
    "transfer_df_adj4 = transfer_df_adj3[transfer_df_adj3.tr_yr != 2018]\n",
    "transfer_df_adj4.shape"
   ]
  },
  {
   "cell_type": "code",
   "execution_count": 10,
   "metadata": {
    "ExecuteTime": {
     "end_time": "2019-05-14T00:32:06.021639Z",
     "start_time": "2019-05-14T00:32:05.994117Z"
    }
   },
   "outputs": [
    {
     "name": "stdout",
     "output_type": "stream",
     "text": [
      "50\n",
      "50\n",
      "1084\n",
      "1084\n"
     ]
    },
    {
     "name": "stderr",
     "output_type": "stream",
     "text": [
      "/Users/xulian/anaconda3/lib/python3.6/site-packages/ipykernel_launcher.py:12: UserWarning: Boolean Series key will be reindexed to match DataFrame index.\n",
      "  if sys.path[0] == '':\n"
     ]
    }
   ],
   "source": [
    "# Number of new school player should be the same as \n",
    "# that of old school player\n",
    "transfer_df_new_skl = transfer_df_adj4[transfer_df_adj4.Team == \\\n",
    "                                       transfer_df_adj4.new_school_alias_match_pl]\n",
    "transfer_df_old_skl = transfer_df_adj4[transfer_df_adj4.Team == \\\n",
    "                                       transfer_df_adj4.prev_school_alias_match_pl]\n",
    "print(len(set(transfer_df_new_skl)))\n",
    "print(len(set(transfer_df_old_skl)))\n",
    "diff1 = list(set(transfer_df_new_skl.Player) - set(transfer_df_old_skl.Player))\n",
    "diff2 = list(set(transfer_df_old_skl.Player) - set(transfer_df_new_skl.Player))\n",
    "transfer_df_adj5 = transfer_df_adj4[~transfer_df_adj4.Player.isin(diff1)]\n",
    "transfer_df_adj6 =transfer_df_adj5[~transfer_df_adj4.Player.isin(diff2)]\n",
    "print(len(set(transfer_df_adj6[transfer_df_adj6.Team == \\\n",
    "                               transfer_df_adj6.new_school_alias_match_pl].Player)))\n",
    "print(len(set(transfer_df_adj6[transfer_df_adj6.Team == \\\n",
    "                               transfer_df_adj6.prev_school_alias_match_pl].Player)))"
   ]
  },
  {
   "cell_type": "code",
   "execution_count": 11,
   "metadata": {
    "ExecuteTime": {
     "end_time": "2019-05-14T00:32:06.053386Z",
     "start_time": "2019-05-14T00:32:06.025136Z"
    }
   },
   "outputs": [
    {
     "data": {
      "text/plain": [
       "Int64Index([  49,   50,   51,  348,  349,  350,  351,  352,  353,  365,\n",
       "            ...\n",
       "            4760, 4761, 4762, 4807, 4808, 4809, 4810, 4874, 4875, 4876],\n",
       "           dtype='int64', length=165)"
      ]
     },
     "execution_count": 11,
     "metadata": {},
     "output_type": "execute_result"
    }
   ],
   "source": [
    "# Investigate graduate transfer\n",
    "imm_eligible_transfer_df = transfer_df_adj6[transfer_df_adj6.imm_eligible == 1]\n",
    "imm_eligible_transfer_new_skl = imm_eligible_transfer_df[imm_eligible_transfer_df.Team == \\\n",
    "                                                         imm_eligible_transfer_df.new_school_alias_match_pl]\n",
    "anomaly_player_list = []\n",
    "for player in Counter(imm_eligible_transfer_new_skl.Player):\n",
    "    if Counter(imm_eligible_transfer_new_skl.Player)[player] > 1:\n",
    "        anomaly_player_list.append(player)\n",
    "        \n",
    "# Adjust\n",
    "transfer_df_adj6[transfer_df_adj6.Player.isin(anomaly_player_list)].index"
   ]
  },
  {
   "cell_type": "code",
   "execution_count": 12,
   "metadata": {
    "ExecuteTime": {
     "end_time": "2019-05-14T00:32:11.258735Z",
     "start_time": "2019-05-14T00:32:06.055654Z"
    }
   },
   "outputs": [
    {
     "name": "stderr",
     "output_type": "stream",
     "text": [
      "/Users/xulian/anaconda3/lib/python3.6/site-packages/pandas/core/indexing.py:543: SettingWithCopyWarning: \n",
      "A value is trying to be set on a copy of a slice from a DataFrame.\n",
      "Try using .loc[row_indexer,col_indexer] = value instead\n",
      "\n",
      "See the caveats in the documentation: http://pandas.pydata.org/pandas-docs/stable/indexing.html#indexing-view-versus-copy\n",
      "  self.obj[item] = s\n"
     ]
    }
   ],
   "source": [
    "# adjust the false 'graduate transfers' back to 'sit-out transfers'\n",
    "for idx in transfer_df_adj6[transfer_df_adj6.Player.isin(anomaly_player_list)].index:\n",
    "    transfer_df_adj6.loc[idx, 'imm_eligible'] = 0"
   ]
  },
  {
   "cell_type": "code",
   "execution_count": 13,
   "metadata": {
    "ExecuteTime": {
     "end_time": "2019-05-14T00:32:11.289367Z",
     "start_time": "2019-05-14T00:32:11.262527Z"
    }
   },
   "outputs": [],
   "source": [
    "# Test if there is an anomaly again\n",
    "imm_eligible_transfer_df = transfer_df_adj6[transfer_df_adj6.imm_eligible == 1]\n",
    "imm_eligible_transfer_new_skl = imm_eligible_transfer_df[imm_eligible_transfer_df.Team == \\\n",
    "                                                         imm_eligible_transfer_df.new_school_alias_match_pl]\n",
    "for player in Counter(imm_eligible_transfer_new_skl.Player):\n",
    "    if Counter(imm_eligible_transfer_new_skl.Player)[player] > 1:\n",
    "        print(player)"
   ]
  },
  {
   "cell_type": "code",
   "execution_count": 14,
   "metadata": {
    "ExecuteTime": {
     "end_time": "2019-05-14T00:32:11.299297Z",
     "start_time": "2019-05-14T00:32:11.291544Z"
    }
   },
   "outputs": [],
   "source": [
    "# Create two different dataframes\n",
    "# One for graudate transfers\n",
    "# One for sit-out transfers\n",
    "graduate_transfer_df = transfer_df_adj6[transfer_df_adj6.imm_eligible == 1]\n",
    "sit_out_transfer_df = transfer_df_adj6[transfer_df_adj6.imm_eligible == 0]"
   ]
  },
  {
   "cell_type": "code",
   "execution_count": 15,
   "metadata": {
    "ExecuteTime": {
     "end_time": "2019-05-14T00:32:11.307940Z",
     "start_time": "2019-05-14T00:32:11.301879Z"
    }
   },
   "outputs": [
    {
     "name": "stdout",
     "output_type": "stream",
     "text": [
      "Number of graduate transfers: 268\n",
      "Number of sit out transfers: 826\n"
     ]
    }
   ],
   "source": [
    "graduate_transfer_list = list(set(graduate_transfer_df.Player))\n",
    "print(f\"Number of graduate transfers: {len(graduate_transfer_list)}\")\n",
    "sit_out_transfer_list = list(set(sit_out_transfer_df.Player))\n",
    "print(f\"Number of sit out transfers: {len(sit_out_transfer_list)}\")"
   ]
  },
  {
   "cell_type": "code",
   "execution_count": 16,
   "metadata": {
    "ExecuteTime": {
     "end_time": "2019-05-14T00:32:12.382129Z",
     "start_time": "2019-05-14T00:32:11.311295Z"
    }
   },
   "outputs": [
    {
     "name": "stderr",
     "output_type": "stream",
     "text": [
      "/Users/xulian/anaconda3/lib/python3.6/site-packages/ipykernel_launcher.py:6: UserWarning: Boolean Series key will be reindexed to match DataFrame index.\n",
      "  \n"
     ]
    },
    {
     "data": {
      "text/plain": [
       "(266, 52)"
      ]
     },
     "execution_count": 16,
     "metadata": {},
     "output_type": "execute_result"
    }
   ],
   "source": [
    "# Get last pre-transfer season BPM for graduate transfers\n",
    "graduate_transfer_df_list = []\n",
    "for player in graduate_transfer_list:\n",
    "    temp_df = graduate_transfer_df[graduate_transfer_df.Player == player]\n",
    "    temp_df_adj = temp_df[temp_df.Team == temp_df.prev_school_alias_match_pl]\n",
    "    temp_df_adj2 = temp_df_adj[temp_df.Season == temp_df_adj.Season.max()]\n",
    "    graduate_transfer_df_list.append(temp_df_adj2)\n",
    "graduate_transfer_last_season_df = pd.concat(graduate_transfer_df_list)\n",
    "graduate_transfer_last_season_df[\"prev_school_wide_bucket\"] = graduate_transfer_last_season_df.prev_school_bucket\\\n",
    "                                                                                            .apply(lambda x: getWideBucket(x))\n",
    "graduate_transfer_last_season_df[\"new_school_wide_bucket\"] = graduate_transfer_last_season_df.new_school_bucket\\\n",
    "                                                                                            .apply(lambda x: getWideBucket(x))\n",
    "graduate_transfer_last_season_df.shape"
   ]
  },
  {
   "cell_type": "code",
   "execution_count": 17,
   "metadata": {
    "ExecuteTime": {
     "end_time": "2019-05-14T00:32:15.341325Z",
     "start_time": "2019-05-14T00:32:12.383790Z"
    }
   },
   "outputs": [
    {
     "name": "stderr",
     "output_type": "stream",
     "text": [
      "/Users/xulian/anaconda3/lib/python3.6/site-packages/ipykernel_launcher.py:6: UserWarning: Boolean Series key will be reindexed to match DataFrame index.\n",
      "  \n"
     ]
    },
    {
     "data": {
      "text/plain": [
       "(822, 52)"
      ]
     },
     "execution_count": 17,
     "metadata": {},
     "output_type": "execute_result"
    }
   ],
   "source": [
    "# Get last pre-transfer season BPM for sit out transfers\n",
    "sit_out_transfer_df_list = []\n",
    "for player in sit_out_transfer_list:\n",
    "    temp_df = sit_out_transfer_df[sit_out_transfer_df.Player == player]\n",
    "    temp_df_adj = temp_df[temp_df.Team == temp_df.prev_school_alias_match_pl]\n",
    "    temp_df_adj2 = temp_df_adj[temp_df.Season == temp_df_adj.Season.max()]\n",
    "    sit_out_transfer_df_list.append(temp_df_adj2)\n",
    "sit_out_transfer_last_season_df = pd.concat(sit_out_transfer_df_list)\n",
    "sit_out_transfer_last_season_df[\"prev_school_wide_bucket\"] = sit_out_transfer_last_season_df.prev_school_bucket\\\n",
    "                                                                                            .apply(lambda x: getWideBucket(x))\n",
    "sit_out_transfer_last_season_df[\"new_school_wide_bucket\"] = sit_out_transfer_last_season_df.new_school_bucket\\\n",
    "                                                                                            .apply(lambda x: getWideBucket(x))\n",
    "\n",
    "sit_out_transfer_last_season_df.shape"
   ]
  },
  {
   "cell_type": "code",
   "execution_count": 18,
   "metadata": {
    "ExecuteTime": {
     "end_time": "2019-05-14T00:32:15.445724Z",
     "start_time": "2019-05-14T00:32:15.348002Z"
    }
   },
   "outputs": [
    {
     "name": "stderr",
     "output_type": "stream",
     "text": [
      "/Users/xulian/anaconda3/lib/python3.6/site-packages/ipykernel_launcher.py:7: SettingWithCopyWarning: \n",
      "A value is trying to be set on a copy of a slice from a DataFrame.\n",
      "Try using .loc[row_indexer,col_indexer] = value instead\n",
      "\n",
      "See the caveats in the documentation: http://pandas.pydata.org/pandas-docs/stable/indexing.html#indexing-view-versus-copy\n",
      "  import sys\n",
      "/Users/xulian/anaconda3/lib/python3.6/site-packages/ipykernel_launcher.py:13: SettingWithCopyWarning: \n",
      "A value is trying to be set on a copy of a slice from a DataFrame.\n",
      "Try using .loc[row_indexer,col_indexer] = value instead\n",
      "\n",
      "See the caveats in the documentation: http://pandas.pydata.org/pandas-docs/stable/indexing.html#indexing-view-versus-copy\n",
      "  del sys.path[0]\n"
     ]
    },
    {
     "data": {
      "text/plain": [
       "(1088, 11)"
      ]
     },
     "execution_count": 18,
     "metadata": {},
     "output_type": "execute_result"
    }
   ],
   "source": [
    "# Merge graduate transfers and sit out transfers into one dataframe\n",
    "graduate_transfer_last_season_df_adj = graduate_transfer_last_season_df[[\"Team\", \"Player\", \"MP\", \"BPM\", \n",
    "                                                                         \"Season\", \"Class\",\n",
    "                                                                         \"prev_school\", \"new_school\", \n",
    "                                                                         \"prev_school_wide_bucket\", \n",
    "                                                                         \"new_school_wide_bucket\"]]\n",
    "graduate_transfer_last_season_df_adj[\"Type\"] = \"graduate\"\n",
    "sit_out_transfer_last_season_df_adj = sit_out_transfer_last_season_df[[\"Team\", \"Player\", \"MP\", \"BPM\", \n",
    "                                                                       \"Season\", \"Class\",\n",
    "                                                                       \"prev_school\", \"new_school\", \n",
    "                                                                       \"prev_school_wide_bucket\", \n",
    "                                                                       \"new_school_wide_bucket\"]]\n",
    "sit_out_transfer_last_season_df_adj[\"Type\"] = \"sit out\"\n",
    "transfer_last_season_df = pd.concat([graduate_transfer_last_season_df_adj,\n",
    "                                     sit_out_transfer_last_season_df_adj])\n",
    "transfer_last_season_df.shape"
   ]
  },
  {
   "cell_type": "code",
   "execution_count": 19,
   "metadata": {
    "ExecuteTime": {
     "end_time": "2019-05-14T00:32:15.468163Z",
     "start_time": "2019-05-14T00:32:15.450025Z"
    }
   },
   "outputs": [],
   "source": [
    "# Get the count of transfers for each year\n",
    "transfer_year_count_dict = {}\n",
    "for yr in range(2012,2018):\n",
    "    transfer_year_count_dict[yr] = transfer_last_season_df.groupby([\"Season\"])\\\n",
    "                                                          .Player.count()[yr]"
   ]
  },
  {
   "cell_type": "code",
   "execution_count": 20,
   "metadata": {
    "ExecuteTime": {
     "end_time": "2019-05-14T00:32:15.496925Z",
     "start_time": "2019-05-14T00:32:15.470088Z"
    }
   },
   "outputs": [],
   "source": [
    "# Calculate the weight of class for each year\n",
    "transfer_gb_df = transfer_last_season_df.groupby([\"Season\", \"Class\"])\\\n",
    "                                        .Player.count().reset_index()\n",
    "transfer_gb_df['Season_Sum'] = transfer_gb_df.Season\\\n",
    "                                             .apply(lambda x: transfer_year_count_dict[x])\n",
    "transfer_gb_df['Class_Percent'] = transfer_gb_df.Player / transfer_gb_df.Season_Sum * 100"
   ]
  },
  {
   "cell_type": "code",
   "execution_count": 21,
   "metadata": {
    "ExecuteTime": {
     "end_time": "2019-05-14T00:32:15.517260Z",
     "start_time": "2019-05-14T00:32:15.499913Z"
    }
   },
   "outputs": [
    {
     "data": {
      "text/html": [
       "<div>\n",
       "<style scoped>\n",
       "    .dataframe tbody tr th:only-of-type {\n",
       "        vertical-align: middle;\n",
       "    }\n",
       "\n",
       "    .dataframe tbody tr th {\n",
       "        vertical-align: top;\n",
       "    }\n",
       "\n",
       "    .dataframe thead th {\n",
       "        text-align: right;\n",
       "    }\n",
       "</style>\n",
       "<table border=\"1\" class=\"dataframe\">\n",
       "  <thead>\n",
       "    <tr style=\"text-align: right;\">\n",
       "      <th></th>\n",
       "      <th>Season</th>\n",
       "      <th>Class</th>\n",
       "      <th>Player</th>\n",
       "      <th>Season_Sum</th>\n",
       "      <th>Class_Percent</th>\n",
       "    </tr>\n",
       "  </thead>\n",
       "  <tbody>\n",
       "    <tr>\n",
       "      <th>20</th>\n",
       "      <td>2017</td>\n",
       "      <td>FR</td>\n",
       "      <td>64</td>\n",
       "      <td>227</td>\n",
       "      <td>28.193833</td>\n",
       "    </tr>\n",
       "    <tr>\n",
       "      <th>21</th>\n",
       "      <td>2017</td>\n",
       "      <td>JR</td>\n",
       "      <td>67</td>\n",
       "      <td>227</td>\n",
       "      <td>29.515419</td>\n",
       "    </tr>\n",
       "    <tr>\n",
       "      <th>22</th>\n",
       "      <td>2017</td>\n",
       "      <td>SO</td>\n",
       "      <td>81</td>\n",
       "      <td>227</td>\n",
       "      <td>35.682819</td>\n",
       "    </tr>\n",
       "    <tr>\n",
       "      <th>23</th>\n",
       "      <td>2017</td>\n",
       "      <td>SR</td>\n",
       "      <td>13</td>\n",
       "      <td>227</td>\n",
       "      <td>5.726872</td>\n",
       "    </tr>\n",
       "  </tbody>\n",
       "</table>\n",
       "</div>"
      ],
      "text/plain": [
       "    Season Class  Player  Season_Sum  Class_Percent\n",
       "20    2017    FR      64         227      28.193833\n",
       "21    2017    JR      67         227      29.515419\n",
       "22    2017    SO      81         227      35.682819\n",
       "23    2017    SR      13         227       5.726872"
      ]
     },
     "execution_count": 21,
     "metadata": {},
     "output_type": "execute_result"
    }
   ],
   "source": [
    "# Get a sample\n",
    "transfer_gb_df[transfer_gb_df.Season == 2017]"
   ]
  },
  {
   "cell_type": "markdown",
   "metadata": {},
   "source": [
    "## Data Visualization"
   ]
  },
  {
   "cell_type": "markdown",
   "metadata": {},
   "source": [
    "By using matplotlib, below is the stacked area chart.  \n",
    "Color palette comes from Page 211 of 'Nippon Traditional Color: A dictionary of Color Combinations'."
   ]
  },
  {
   "cell_type": "code",
   "execution_count": 22,
   "metadata": {
    "ExecuteTime": {
     "end_time": "2019-05-14T00:32:15.834075Z",
     "start_time": "2019-05-14T00:32:15.520631Z"
    }
   },
   "outputs": [
    {
     "data": {
      "text/plain": [
       "<matplotlib.legend.Legend at 0x119c20be0>"
      ]
     },
     "execution_count": 22,
     "metadata": {},
     "output_type": "execute_result"
    },
    {
     "data": {
      "image/png": "[encoded data removed]",
      "text/plain": [
       "<Figure size 720x432 with 1 Axes>"
      ]
     },
     "metadata": {
      "needs_background": "light"
     },
     "output_type": "display_data"
    }
   ],
   "source": [
    "figsize(10,6)\n",
    "plt.title(\"NCAA Div.I Men's Basketball Transfers' Year-to-Year Count (2012-2017)\")\n",
    "plt.xlabel('Year')\n",
    "plt.ylabel('Number of Transfers')\n",
    "plt.stackplot(range(2012, 2018), \n",
    "              transfer_gb_df[transfer_gb_df.Class == 'FR'].Player.values,\n",
    "              transfer_gb_df[transfer_gb_df.Class == 'SO'].Player.values,\n",
    "              transfer_gb_df[transfer_gb_df.Class == 'JR'].Player.values,\n",
    "              transfer_gb_df[transfer_gb_df.Class == 'SR'].Player.values,\n",
    "              labels = ['Freshman', 'Sophomore', 'Junior', 'Senior'],\n",
    "              colors = ['#F9BF45', '#877F6C', '#255359', '#81C7D4'])\n",
    "plt.legend(loc='upper left')"
   ]
  }
 ],
 "metadata": {
  "kernelspec": {
   "display_name": "Python 3",
   "language": "python",
   "name": "python3"
  },
  "language_info": {
   "codemirror_mode": {
    "name": "ipython",
    "version": 3
   },
   "file_extension": ".py",
   "mimetype": "text/x-python",
   "name": "python",
   "nbconvert_exporter": "python",
   "pygments_lexer": "ipython3",
   "version": "3.6.7"
  }
 },
 "nbformat": 4,
 "nbformat_minor": 2
}
