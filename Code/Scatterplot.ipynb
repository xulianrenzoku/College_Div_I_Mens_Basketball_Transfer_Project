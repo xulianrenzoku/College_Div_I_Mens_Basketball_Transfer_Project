{
 "cells": [
  {
   "cell_type": "code",
   "execution_count": 1,
   "metadata": {
    "ExecuteTime": {
     "end_time": "2019-05-14T00:25:21.932285Z",
     "start_time": "2019-05-14T00:25:21.260612Z"
    }
   },
   "outputs": [],
   "source": [
    "import pandas as pd\n",
    "import numpy as np\n",
    "from IPython.core.pylabtools import figsize\n",
    "from matplotlib import pyplot as plt\n",
    "from collections import Counter"
   ]
  },
  {
   "cell_type": "markdown",
   "metadata": {},
   "source": [
    "## Load the dataset"
   ]
  },
  {
   "cell_type": "code",
   "execution_count": 2,
   "metadata": {
    "ExecuteTime": {
     "end_time": "2019-05-14T00:25:22.043484Z",
     "start_time": "2019-05-14T00:25:21.936595Z"
    }
   },
   "outputs": [
    {
     "data": {
      "text/plain": [
       "(4891, 48)"
      ]
     },
     "execution_count": 2,
     "metadata": {},
     "output_type": "execute_result"
    }
   ],
   "source": [
    "# Load the transfer dataset\n",
    "transfer_df = pd.read_csv(\"../../TransfersWithStats.csv\")\\\n",
    "                .drop(\"Unnamed: 0\", axis=1)\n",
    "transfer_df.shape"
   ]
  },
  {
   "cell_type": "code",
   "execution_count": 3,
   "metadata": {
    "ExecuteTime": {
     "end_time": "2019-05-14T00:25:22.067066Z",
     "start_time": "2019-05-14T00:25:22.046128Z"
    }
   },
   "outputs": [
    {
     "data": {
      "text/plain": [
       "361"
      ]
     },
     "execution_count": 3,
     "metadata": {},
     "output_type": "execute_result"
    }
   ],
   "source": [
    "# Load the bucket dataset\n",
    "bucket_df = pd.read_csv(\"../../Corrected_School_List_Buckets.csv\")\\\n",
    "            [[\"TeamName\",'Definitive Bucket']]\n",
    "len(bucket_df) # number of Div. I schools"
   ]
  },
  {
   "cell_type": "markdown",
   "metadata": {},
   "source": [
    "## Bucket Functions"
   ]
  },
  {
   "cell_type": "code",
   "execution_count": 4,
   "metadata": {
    "ExecuteTime": {
     "end_time": "2019-05-14T00:25:22.078975Z",
     "start_time": "2019-05-14T00:25:22.071460Z"
    }
   },
   "outputs": [
    {
     "name": "stdout",
     "output_type": "stream",
     "text": [
      "5\n",
      "0\n"
     ]
    }
   ],
   "source": [
    "# Define a function that gets the rating of a program\n",
    "def get_bucket(school):\n",
    "    if school in bucket_df.TeamName.values:\n",
    "        return bucket_df[bucket_df.TeamName == school]\\\n",
    "                        [\"Definitive Bucket\"].values[0]\n",
    "    else:\n",
    "        return 0\n",
    "print(get_bucket(\"San Francisco\")) # test a Div.I program\n",
    "print(get_bucket(\"BYU-Hawaii\")) # test a non-Div.I program"
   ]
  },
  {
   "cell_type": "code",
   "execution_count": 5,
   "metadata": {
    "ExecuteTime": {
     "end_time": "2019-05-14T00:25:22.088866Z",
     "start_time": "2019-05-14T00:25:22.082810Z"
    }
   },
   "outputs": [
    {
     "name": "stdout",
     "output_type": "stream",
     "text": [
      "High-Majors\n"
     ]
    }
   ],
   "source": [
    "# Define a function that puts 1-9 scale into 3 wide buckets\n",
    "def getWideBucket(num):\n",
    "    if num < 4:\n",
    "        return \"Low-Majors\"\n",
    "    elif num < 7:\n",
    "        return \"Mid-Majors\"\n",
    "    else:\n",
    "        return \"High-Majors\"\n",
    "\n",
    "print(getWideBucket(9))"
   ]
  },
  {
   "cell_type": "markdown",
   "metadata": {},
   "source": [
    "## Data-Preprocessing"
   ]
  },
  {
   "cell_type": "code",
   "execution_count": 6,
   "metadata": {
    "ExecuteTime": {
     "end_time": "2019-05-14T00:25:22.107157Z",
     "start_time": "2019-05-14T00:25:22.092237Z"
    }
   },
   "outputs": [
    {
     "name": "stdout",
     "output_type": "stream",
     "text": [
      "4891 4569\n"
     ]
    }
   ],
   "source": [
    "# Filter out bad match\n",
    "transfer_df_adj = transfer_df[(transfer_df.Team == \\\n",
    "                               transfer_df.new_school_alias_match_pl) |\n",
    "                              (transfer_df.Team == \\\n",
    "                               transfer_df.prev_school_alias_match_pl)]\n",
    "print(transfer_df.shape[0], transfer_df_adj.shape[0])"
   ]
  },
  {
   "cell_type": "code",
   "execution_count": 7,
   "metadata": {
    "ExecuteTime": {
     "end_time": "2019-05-14T00:25:27.938775Z",
     "start_time": "2019-05-14T00:25:22.111804Z"
    }
   },
   "outputs": [
    {
     "name": "stderr",
     "output_type": "stream",
     "text": [
      "/Users/xulian/anaconda3/lib/python3.6/site-packages/ipykernel_launcher.py:5: SettingWithCopyWarning: \n",
      "A value is trying to be set on a copy of a slice from a DataFrame.\n",
      "Try using .loc[row_indexer,col_indexer] = value instead\n",
      "\n",
      "See the caveats in the documentation: http://pandas.pydata.org/pandas-docs/stable/indexing.html#indexing-view-versus-copy\n",
      "  \"\"\"\n",
      "/Users/xulian/anaconda3/lib/python3.6/site-packages/ipykernel_launcher.py:8: SettingWithCopyWarning: \n",
      "A value is trying to be set on a copy of a slice from a DataFrame.\n",
      "Try using .loc[row_indexer,col_indexer] = value instead\n",
      "\n",
      "See the caveats in the documentation: http://pandas.pydata.org/pandas-docs/stable/indexing.html#indexing-view-versus-copy\n",
      "  \n"
     ]
    }
   ],
   "source": [
    "# Get bucket for each row\n",
    "transfer_df_adj2 = transfer_df[transfer_df.Player != 'Anthony Horton']\n",
    "transfer_df_adj2[\"prev_school_bucket\"] = transfer_df_adj2.prev_school\\\n",
    "                                                         .apply(lambda x: x.replace('UNCG', 'UNC Greensboro'))\\\n",
    "                                                         .apply(get_bucket)\n",
    "transfer_df_adj2[\"new_school_bucket\"] = transfer_df_adj2.new_school\\\n",
    "                                                        .apply(lambda x: x.replace('UNCG', 'UNC Greensboro'))\\\n",
    "                                                        .apply(get_bucket)"
   ]
  },
  {
   "cell_type": "code",
   "execution_count": 8,
   "metadata": {
    "ExecuteTime": {
     "end_time": "2019-05-14T00:25:27.952515Z",
     "start_time": "2019-05-14T00:25:27.940818Z"
    }
   },
   "outputs": [
    {
     "name": "stdout",
     "output_type": "stream",
     "text": [
      "(4886, 50)\n",
      "128\n",
      "(4758, 50)\n"
     ]
    }
   ],
   "source": [
    "# Take out players that show up for only one row\n",
    "print(transfer_df_adj2.shape)\n",
    "transfer_season_cnt = Counter(transfer_df_adj2.Player)\n",
    "single_season_player_list = []\n",
    "for player in list(set(transfer_df_adj2.Player)):\n",
    "    if transfer_season_cnt[player] < 2:\n",
    "        single_season_player_list.append(player)\n",
    "print(len(single_season_player_list))\n",
    "transfer_df_adj3 = transfer_df_adj2[~transfer_df_adj2.Player.isin(single_season_player_list)]\n",
    "print(transfer_df_adj3.shape)"
   ]
  },
  {
   "cell_type": "code",
   "execution_count": 9,
   "metadata": {
    "ExecuteTime": {
     "end_time": "2019-05-14T00:25:27.962826Z",
     "start_time": "2019-05-14T00:25:27.954384Z"
    }
   },
   "outputs": [
    {
     "data": {
      "text/plain": [
       "(4127, 50)"
      ]
     },
     "execution_count": 9,
     "metadata": {},
     "output_type": "execute_result"
    }
   ],
   "source": [
    "# Filter out the 2018 record\n",
    "transfer_df_adj4 = transfer_df_adj3[transfer_df_adj3.tr_yr != 2018]\n",
    "transfer_df_adj4.shape"
   ]
  },
  {
   "cell_type": "code",
   "execution_count": 10,
   "metadata": {
    "ExecuteTime": {
     "end_time": "2019-05-14T00:25:27.988260Z",
     "start_time": "2019-05-14T00:25:27.964944Z"
    }
   },
   "outputs": [
    {
     "name": "stdout",
     "output_type": "stream",
     "text": [
      "50\n",
      "50\n",
      "1084\n",
      "1084\n"
     ]
    },
    {
     "name": "stderr",
     "output_type": "stream",
     "text": [
      "/Users/xulian/anaconda3/lib/python3.6/site-packages/ipykernel_launcher.py:12: UserWarning: Boolean Series key will be reindexed to match DataFrame index.\n",
      "  if sys.path[0] == '':\n"
     ]
    }
   ],
   "source": [
    "# Number of new school player should be the same as \n",
    "# that of old school player\n",
    "transfer_df_new_skl = transfer_df_adj4[transfer_df_adj4.Team == \\\n",
    "                                       transfer_df_adj4.new_school_alias_match_pl]\n",
    "transfer_df_old_skl = transfer_df_adj4[transfer_df_adj4.Team == \\\n",
    "                                       transfer_df_adj4.prev_school_alias_match_pl]\n",
    "print(len(set(transfer_df_new_skl)))\n",
    "print(len(set(transfer_df_old_skl)))\n",
    "diff1 = list(set(transfer_df_new_skl.Player) - set(transfer_df_old_skl.Player))\n",
    "diff2 = list(set(transfer_df_old_skl.Player) - set(transfer_df_new_skl.Player))\n",
    "transfer_df_adj5 = transfer_df_adj4[~transfer_df_adj4.Player.isin(diff1)]\n",
    "transfer_df_adj6 =transfer_df_adj5[~transfer_df_adj4.Player.isin(diff2)]\n",
    "print(len(set(transfer_df_adj6[transfer_df_adj6.Team == \\\n",
    "                               transfer_df_adj6.new_school_alias_match_pl].Player)))\n",
    "print(len(set(transfer_df_adj6[transfer_df_adj6.Team == \\\n",
    "                               transfer_df_adj6.prev_school_alias_match_pl].Player)))"
   ]
  },
  {
   "cell_type": "code",
   "execution_count": 11,
   "metadata": {
    "ExecuteTime": {
     "end_time": "2019-05-14T00:25:28.016762Z",
     "start_time": "2019-05-14T00:25:27.991339Z"
    }
   },
   "outputs": [
    {
     "data": {
      "text/plain": [
       "Int64Index([  49,   50,   51,  348,  349,  350,  351,  352,  353,  365,\n",
       "            ...\n",
       "            4760, 4761, 4762, 4807, 4808, 4809, 4810, 4874, 4875, 4876],\n",
       "           dtype='int64', length=165)"
      ]
     },
     "execution_count": 11,
     "metadata": {},
     "output_type": "execute_result"
    }
   ],
   "source": [
    "# Investigate graduate transfer\n",
    "imm_eligible_transfer_df = transfer_df_adj6[transfer_df_adj6.imm_eligible == 1]\n",
    "imm_eligible_transfer_new_skl = imm_eligible_transfer_df[imm_eligible_transfer_df.Team == \\\n",
    "                                                         imm_eligible_transfer_df.new_school_alias_match_pl]\n",
    "anomaly_player_list = []\n",
    "for player in Counter(imm_eligible_transfer_new_skl.Player):\n",
    "    if Counter(imm_eligible_transfer_new_skl.Player)[player] > 1:\n",
    "        anomaly_player_list.append(player)\n",
    "        \n",
    "# Adjust\n",
    "transfer_df_adj6[transfer_df_adj6.Player.isin(anomaly_player_list)].index"
   ]
  },
  {
   "cell_type": "code",
   "execution_count": 12,
   "metadata": {
    "ExecuteTime": {
     "end_time": "2019-05-14T00:25:33.347203Z",
     "start_time": "2019-05-14T00:25:28.018420Z"
    }
   },
   "outputs": [
    {
     "name": "stderr",
     "output_type": "stream",
     "text": [
      "/Users/xulian/anaconda3/lib/python3.6/site-packages/pandas/core/indexing.py:543: SettingWithCopyWarning: \n",
      "A value is trying to be set on a copy of a slice from a DataFrame.\n",
      "Try using .loc[row_indexer,col_indexer] = value instead\n",
      "\n",
      "See the caveats in the documentation: http://pandas.pydata.org/pandas-docs/stable/indexing.html#indexing-view-versus-copy\n",
      "  self.obj[item] = s\n"
     ]
    }
   ],
   "source": [
    "# adjust the false 'graduate transfers' back to 'sit-out transfers'\n",
    "for idx in transfer_df_adj6[transfer_df_adj6.Player.isin(anomaly_player_list)].index:\n",
    "    transfer_df_adj6.loc[idx, 'imm_eligible'] = 0"
   ]
  },
  {
   "cell_type": "code",
   "execution_count": 13,
   "metadata": {
    "ExecuteTime": {
     "end_time": "2019-05-14T00:25:33.386849Z",
     "start_time": "2019-05-14T00:25:33.351783Z"
    }
   },
   "outputs": [],
   "source": [
    "# Test if there is an anomaly again\n",
    "imm_eligible_transfer_df = transfer_df_adj6[transfer_df_adj6.imm_eligible == 1]\n",
    "imm_eligible_transfer_new_skl = imm_eligible_transfer_df[imm_eligible_transfer_df.Team == \\\n",
    "                                                         imm_eligible_transfer_df.new_school_alias_match_pl]\n",
    "for player in Counter(imm_eligible_transfer_new_skl.Player):\n",
    "    if Counter(imm_eligible_transfer_new_skl.Player)[player] > 1:\n",
    "        print(player)"
   ]
  },
  {
   "cell_type": "code",
   "execution_count": 14,
   "metadata": {
    "ExecuteTime": {
     "end_time": "2019-05-14T00:25:33.404122Z",
     "start_time": "2019-05-14T00:25:33.390986Z"
    }
   },
   "outputs": [],
   "source": [
    "# Create two different dataframes\n",
    "# One for graudate transfers\n",
    "# One for sit-out transfers\n",
    "graduate_transfer_df = transfer_df_adj6[transfer_df_adj6.imm_eligible == 1]\n",
    "sit_out_transfer_df = transfer_df_adj6[transfer_df_adj6.imm_eligible == 0]"
   ]
  },
  {
   "cell_type": "code",
   "execution_count": 15,
   "metadata": {
    "ExecuteTime": {
     "end_time": "2019-05-14T00:25:33.417279Z",
     "start_time": "2019-05-14T00:25:33.409515Z"
    }
   },
   "outputs": [
    {
     "name": "stdout",
     "output_type": "stream",
     "text": [
      "Number of graduate transfers: 268\n",
      "Number of sit out transfers: 826\n"
     ]
    }
   ],
   "source": [
    "graduate_transfer_list = list(set(graduate_transfer_df.Player))\n",
    "print(f\"Number of graduate transfers: {len(graduate_transfer_list)}\")\n",
    "sit_out_transfer_list = list(set(sit_out_transfer_df.Player))\n",
    "print(f\"Number of sit out transfers: {len(sit_out_transfer_list)}\")"
   ]
  },
  {
   "cell_type": "code",
   "execution_count": 16,
   "metadata": {
    "ExecuteTime": {
     "end_time": "2019-05-14T00:25:34.620996Z",
     "start_time": "2019-05-14T00:25:33.422117Z"
    }
   },
   "outputs": [
    {
     "name": "stderr",
     "output_type": "stream",
     "text": [
      "/Users/xulian/anaconda3/lib/python3.6/site-packages/ipykernel_launcher.py:6: UserWarning: Boolean Series key will be reindexed to match DataFrame index.\n",
      "  \n"
     ]
    },
    {
     "data": {
      "text/plain": [
       "(266, 52)"
      ]
     },
     "execution_count": 16,
     "metadata": {},
     "output_type": "execute_result"
    }
   ],
   "source": [
    "# Get last pre-transfer season BPM for graduate transfers\n",
    "graduate_transfer_df_list = []\n",
    "for player in graduate_transfer_list:\n",
    "    temp_df = graduate_transfer_df[graduate_transfer_df.Player == player]\n",
    "    temp_df_adj = temp_df[temp_df.Team == temp_df.prev_school_alias_match_pl]\n",
    "    temp_df_adj2 = temp_df_adj[temp_df.Season == temp_df_adj.Season.max()]\n",
    "    graduate_transfer_df_list.append(temp_df_adj2)\n",
    "graduate_transfer_last_season_df = pd.concat(graduate_transfer_df_list)\n",
    "graduate_transfer_last_season_df[\"prev_school_wide_bucket\"] = graduate_transfer_last_season_df.prev_school_bucket\\\n",
    "                                                                                            .apply(lambda x: getWideBucket(x))\n",
    "graduate_transfer_last_season_df[\"new_school_wide_bucket\"] = graduate_transfer_last_season_df.new_school_bucket\\\n",
    "                                                                                            .apply(lambda x: getWideBucket(x))\n",
    "graduate_transfer_last_season_df.shape"
   ]
  },
  {
   "cell_type": "code",
   "execution_count": 17,
   "metadata": {
    "ExecuteTime": {
     "end_time": "2019-05-14T00:25:38.148722Z",
     "start_time": "2019-05-14T00:25:34.622749Z"
    }
   },
   "outputs": [
    {
     "name": "stderr",
     "output_type": "stream",
     "text": [
      "/Users/xulian/anaconda3/lib/python3.6/site-packages/ipykernel_launcher.py:6: UserWarning: Boolean Series key will be reindexed to match DataFrame index.\n",
      "  \n"
     ]
    },
    {
     "data": {
      "text/plain": [
       "(822, 52)"
      ]
     },
     "execution_count": 17,
     "metadata": {},
     "output_type": "execute_result"
    }
   ],
   "source": [
    "# Get last pre-transfer season BPM for sit out transfers\n",
    "sit_out_transfer_df_list = []\n",
    "for player in sit_out_transfer_list:\n",
    "    temp_df = sit_out_transfer_df[sit_out_transfer_df.Player == player]\n",
    "    temp_df_adj = temp_df[temp_df.Team == temp_df.prev_school_alias_match_pl]\n",
    "    temp_df_adj2 = temp_df_adj[temp_df.Season == temp_df_adj.Season.max()]\n",
    "    sit_out_transfer_df_list.append(temp_df_adj2)\n",
    "sit_out_transfer_last_season_df = pd.concat(sit_out_transfer_df_list)\n",
    "sit_out_transfer_last_season_df[\"prev_school_wide_bucket\"] = sit_out_transfer_last_season_df.prev_school_bucket\\\n",
    "                                                                                            .apply(lambda x: getWideBucket(x))\n",
    "sit_out_transfer_last_season_df[\"new_school_wide_bucket\"] = sit_out_transfer_last_season_df.new_school_bucket\\\n",
    "                                                                                            .apply(lambda x: getWideBucket(x))\n",
    "\n",
    "sit_out_transfer_last_season_df.shape"
   ]
  },
  {
   "cell_type": "code",
   "execution_count": 18,
   "metadata": {
    "ExecuteTime": {
     "end_time": "2019-05-14T00:25:38.251305Z",
     "start_time": "2019-05-14T00:25:38.153219Z"
    }
   },
   "outputs": [
    {
     "name": "stderr",
     "output_type": "stream",
     "text": [
      "/Users/xulian/anaconda3/lib/python3.6/site-packages/ipykernel_launcher.py:9: SettingWithCopyWarning: \n",
      "A value is trying to be set on a copy of a slice from a DataFrame.\n",
      "Try using .loc[row_indexer,col_indexer] = value instead\n",
      "\n",
      "See the caveats in the documentation: http://pandas.pydata.org/pandas-docs/stable/indexing.html#indexing-view-versus-copy\n",
      "  if __name__ == '__main__':\n",
      "/Users/xulian/anaconda3/lib/python3.6/site-packages/ipykernel_launcher.py:17: SettingWithCopyWarning: \n",
      "A value is trying to be set on a copy of a slice from a DataFrame.\n",
      "Try using .loc[row_indexer,col_indexer] = value instead\n",
      "\n",
      "See the caveats in the documentation: http://pandas.pydata.org/pandas-docs/stable/indexing.html#indexing-view-versus-copy\n"
     ]
    },
    {
     "data": {
      "text/plain": [
       "(1088, 13)"
      ]
     },
     "execution_count": 18,
     "metadata": {},
     "output_type": "execute_result"
    }
   ],
   "source": [
    "# Merge graduate transfers and sit out transfers into one dataframe\n",
    "graduate_transfer_last_season_df_adj = graduate_transfer_last_season_df[[\"Team\", \"Player\", \"MP\", \"G\",\n",
    "                                                                         \"BPM\", \"Season\",\n",
    "                                                                         \"prev_school\", \"new_school\",\n",
    "                                                                         \"prev_school_level\",\n",
    "                                                                         \"new_school_level\",\n",
    "                                                                         \"prev_school_wide_bucket\", \n",
    "                                                                         \"new_school_wide_bucket\"]]\n",
    "graduate_transfer_last_season_df_adj[\"Type\"] = \"graduate\"\n",
    "sit_out_transfer_last_season_df_adj = sit_out_transfer_last_season_df[[\"Team\", \"Player\", \"MP\", \"G\",\n",
    "                                                                       \"BPM\", \"Season\",\n",
    "                                                                       \"prev_school\", \"new_school\", \n",
    "                                                                       \"prev_school_level\",\n",
    "                                                                       \"new_school_level\",\n",
    "                                                                       \"prev_school_wide_bucket\", \n",
    "                                                                       \"new_school_wide_bucket\"]]\n",
    "sit_out_transfer_last_season_df_adj[\"Type\"] = \"sit out\"\n",
    "transfer_last_season_df = pd.concat([graduate_transfer_last_season_df_adj,\n",
    "                                     sit_out_transfer_last_season_df_adj])\n",
    "transfer_last_season_df.shape"
   ]
  },
  {
   "cell_type": "code",
   "execution_count": 19,
   "metadata": {
    "ExecuteTime": {
     "end_time": "2019-05-14T00:25:38.324615Z",
     "start_time": "2019-05-14T00:25:38.255849Z"
    }
   },
   "outputs": [
    {
     "data": {
      "text/plain": [
       "(454, 14)"
      ]
     },
     "execution_count": 19,
     "metadata": {},
     "output_type": "execute_result"
    }
   ],
   "source": [
    "# Get transfers who 'transferred up'\n",
    "# Below are the Scenarios\n",
    "# High -> High\n",
    "# Mid -> High\n",
    "# Mid -> Mid\n",
    "# Low -> High\n",
    "# Low -> Mid\n",
    "\n",
    "transfer_last_season_df_adj1 = transfer_last_season_df[transfer_last_season_df.new_school_wide_bucket \\\n",
    "                                                       == 'High-Majors']\n",
    "transfer_last_season_df_adj2 = transfer_last_season_df[(transfer_last_season_df.new_school_wide_bucket \\\n",
    "                                                        == 'Mid-Majors') &\n",
    "                                                       (transfer_last_season_df.prev_school_wide_bucket \\\n",
    "                                                        != 'High-Majors')]\n",
    "transfer_last_season_df_adj = pd.concat([transfer_last_season_df_adj1, transfer_last_season_df_adj2])\n",
    "transfer_last_season_df_adj = transfer_last_season_df_adj[transfer_last_season_df_adj.MP > 100]\n",
    "transfer_last_season_df_adj['M/G'] = transfer_last_season_df_adj.MP / \\\n",
    "                                     transfer_last_season_df_adj.G\n",
    "transfer_last_season_df_adj.shape"
   ]
  },
  {
   "cell_type": "code",
   "execution_count": 20,
   "metadata": {
    "ExecuteTime": {
     "end_time": "2019-05-14T00:25:38.344534Z",
     "start_time": "2019-05-14T00:25:38.329308Z"
    }
   },
   "outputs": [
    {
     "data": {
      "text/plain": [
       "(349, 14)"
      ]
     },
     "execution_count": 20,
     "metadata": {},
     "output_type": "execute_result"
    }
   ],
   "source": [
    "# Get samples who play over 15 mins per game\n",
    "transfer_o15_df = transfer_last_season_df_adj[transfer_last_season_df_adj['M/G'] > 15]\n",
    "transfer_o15_df.shape"
   ]
  },
  {
   "cell_type": "markdown",
   "metadata": {},
   "source": [
    "## Data Visualization"
   ]
  },
  {
   "cell_type": "markdown",
   "metadata": {},
   "source": [
    "By using matplotlib, below is the scatterplot."
   ]
  },
  {
   "cell_type": "code",
   "execution_count": 21,
   "metadata": {
    "ExecuteTime": {
     "end_time": "2019-05-14T00:25:38.822824Z",
     "start_time": "2019-05-14T00:25:38.349183Z"
    }
   },
   "outputs": [
    {
     "data": {
      "text/plain": [
       "<matplotlib.legend.Legend at 0x1187d0b00>"
      ]
     },
     "execution_count": 21,
     "metadata": {},
     "output_type": "execute_result"
    },
    {
     "data": {
      "image/png": "[encoded data removed]",
      "text/plain": [
       "<Figure size 720x432 with 1 Axes>"
      ]
     },
     "metadata": {
      "needs_background": "light"
     },
     "output_type": "display_data"
    }
   ],
   "source": [
    "figsize(10,6)\n",
    "plt.title('Minutes Played Per Game vs. Box Plus-Minus(BPM)\\nin Last Pre-Transfer Season\\n (2012-2017)')\n",
    "plt.xlabel('Minutes Played Per Game in Last Pre-Transfer Season')\n",
    "plt.ylabel('BPM in Last Pre-Transfer Season')\n",
    "for level in ['Low-Majors', 'Mid-Majors', 'High-Majors']:\n",
    "    plt.scatter(transfer_o15_df[transfer_o15_df.prev_school_wide_bucket == \\\n",
    "                                level][\"M/G\"],\n",
    "                transfer_o15_df[transfer_o15_df.prev_school_wide_bucket == \\\n",
    "                                level].BPM,\n",
    "                label = level)\n",
    "plt.legend()"
   ]
  }
 ],
 "metadata": {
  "kernelspec": {
   "display_name": "Python 3",
   "language": "python",
   "name": "python3"
  },
  "language_info": {
   "codemirror_mode": {
    "name": "ipython",
    "version": 3
   },
   "file_extension": ".py",
   "mimetype": "text/x-python",
   "name": "python",
   "nbconvert_exporter": "python",
   "pygments_lexer": "ipython3",
   "version": "3.6.7"
  }
 },
 "nbformat": 4,
 "nbformat_minor": 2
}
