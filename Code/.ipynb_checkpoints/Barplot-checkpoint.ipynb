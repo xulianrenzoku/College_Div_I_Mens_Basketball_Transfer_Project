{
 "cells": [
  {
   "cell_type": "code",
   "execution_count": 1,
   "metadata": {
    "ExecuteTime": {
     "end_time": "2019-05-13T09:01:46.797419Z",
     "start_time": "2019-05-13T09:01:45.953204Z"
    }
   },
   "outputs": [],
   "source": [
    "import pandas as pd\n",
    "import numpy as np\n",
    "from IPython.core.pylabtools import figsize\n",
    "from matplotlib import pyplot as plt\n",
    "from collections import Counter"
   ]
  },
  {
   "cell_type": "markdown",
   "metadata": {},
   "source": [
    "## Load the dataset"
   ]
  },
  {
   "cell_type": "code",
   "execution_count": 2,
   "metadata": {
    "ExecuteTime": {
     "end_time": "2019-05-13T09:01:46.865373Z",
     "start_time": "2019-05-13T09:01:46.800541Z"
    }
   },
   "outputs": [
    {
     "data": {
      "text/plain": [
       "(4891, 48)"
      ]
     },
     "execution_count": 2,
     "metadata": {},
     "output_type": "execute_result"
    }
   ],
   "source": [
    "# Load the transfer dataset\n",
    "transfer_df = pd.read_csv(\"../../TransfersWithStats.csv\")\\\n",
    "                .drop(\"Unnamed: 0\", axis=1)\n",
    "transfer_df.shape"
   ]
  },
  {
   "cell_type": "code",
   "execution_count": 3,
   "metadata": {
    "ExecuteTime": {
     "end_time": "2019-05-13T09:01:46.883814Z",
     "start_time": "2019-05-13T09:01:46.867023Z"
    }
   },
   "outputs": [
    {
     "data": {
      "text/plain": [
       "361"
      ]
     },
     "execution_count": 3,
     "metadata": {},
     "output_type": "execute_result"
    }
   ],
   "source": [
    "# Load the bucket dataset\n",
    "bucket_df = pd.read_csv(\"../../Corrected_School_List_Buckets.csv\")\\\n",
    "            [[\"TeamName\",'Definitive Bucket']]\n",
    "len(bucket_df) # number of Div. I schools"
   ]
  },
  {
   "cell_type": "markdown",
   "metadata": {},
   "source": [
    "## Bucket Functions"
   ]
  },
  {
   "cell_type": "code",
   "execution_count": 4,
   "metadata": {
    "ExecuteTime": {
     "end_time": "2019-05-13T09:01:46.892648Z",
     "start_time": "2019-05-13T09:01:46.887224Z"
    }
   },
   "outputs": [
    {
     "name": "stdout",
     "output_type": "stream",
     "text": [
      "5\n",
      "0\n"
     ]
    }
   ],
   "source": [
    "# Define a function that gets the rating of a program\n",
    "def get_bucket(school):\n",
    "    if school in bucket_df.TeamName.values:\n",
    "        return bucket_df[bucket_df.TeamName == school]\\\n",
    "                        [\"Definitive Bucket\"].values[0]\n",
    "    else:\n",
    "        return 0\n",
    "print(get_bucket(\"San Francisco\")) # test a Div.I program\n",
    "print(get_bucket(\"BYU-Hawaii\")) # test a non-Div.I program"
   ]
  },
  {
   "cell_type": "code",
   "execution_count": 5,
   "metadata": {
    "ExecuteTime": {
     "end_time": "2019-05-13T09:01:46.899744Z",
     "start_time": "2019-05-13T09:01:46.895934Z"
    }
   },
   "outputs": [
    {
     "name": "stdout",
     "output_type": "stream",
     "text": [
      "High-Majors\n"
     ]
    }
   ],
   "source": [
    "# Define a function that puts 1-9 scale into 3 wide buckets\n",
    "def getWideBucket(num):\n",
    "    if num < 4:\n",
    "        return \"Low-Majors\"\n",
    "    elif num < 7:\n",
    "        return \"Mid-Majors\"\n",
    "    else:\n",
    "        return \"High-Majors\"\n",
    "\n",
    "print(getWideBucket(9))"
   ]
  },
  {
   "cell_type": "markdown",
   "metadata": {},
   "source": [
    "## Data-Preprocessing"
   ]
  },
  {
   "cell_type": "code",
   "execution_count": 6,
   "metadata": {
    "ExecuteTime": {
     "end_time": "2019-05-13T09:01:46.913443Z",
     "start_time": "2019-05-13T09:01:46.902838Z"
    }
   },
   "outputs": [
    {
     "name": "stdout",
     "output_type": "stream",
     "text": [
      "4891 4569\n"
     ]
    }
   ],
   "source": [
    "# Filter out bad match\n",
    "transfer_df_adj = transfer_df[(transfer_df.Team == \\\n",
    "                               transfer_df.new_school_alias_match_pl) |\n",
    "                              (transfer_df.Team == \\\n",
    "                               transfer_df.prev_school_alias_match_pl)]\n",
    "print(transfer_df.shape[0], transfer_df_adj.shape[0])"
   ]
  },
  {
   "cell_type": "code",
   "execution_count": 7,
   "metadata": {
    "ExecuteTime": {
     "end_time": "2019-05-13T09:01:52.641585Z",
     "start_time": "2019-05-13T09:01:46.915645Z"
    }
   },
   "outputs": [
    {
     "name": "stderr",
     "output_type": "stream",
     "text": [
      "/Users/xulian/anaconda3/lib/python3.6/site-packages/ipykernel_launcher.py:5: SettingWithCopyWarning: \n",
      "A value is trying to be set on a copy of a slice from a DataFrame.\n",
      "Try using .loc[row_indexer,col_indexer] = value instead\n",
      "\n",
      "See the caveats in the documentation: http://pandas.pydata.org/pandas-docs/stable/indexing.html#indexing-view-versus-copy\n",
      "  \"\"\"\n",
      "/Users/xulian/anaconda3/lib/python3.6/site-packages/ipykernel_launcher.py:8: SettingWithCopyWarning: \n",
      "A value is trying to be set on a copy of a slice from a DataFrame.\n",
      "Try using .loc[row_indexer,col_indexer] = value instead\n",
      "\n",
      "See the caveats in the documentation: http://pandas.pydata.org/pandas-docs/stable/indexing.html#indexing-view-versus-copy\n",
      "  \n"
     ]
    }
   ],
   "source": [
    "# Get bucket for each row\n",
    "transfer_df_adj2 = transfer_df[transfer_df.Player != 'Anthony Horton']\n",
    "transfer_df_adj2[\"prev_school_bucket\"] = transfer_df_adj2.prev_school\\\n",
    "                                                         .apply(lambda x: x.replace('UNCG', 'UNC Greensboro'))\\\n",
    "                                                         .apply(get_bucket)\n",
    "transfer_df_adj2[\"new_school_bucket\"] = transfer_df_adj2.new_school\\\n",
    "                                                        .apply(lambda x: x.replace('UNCG', 'UNC Greensboro'))\\\n",
    "                                                        .apply(get_bucket)"
   ]
  },
  {
   "cell_type": "code",
   "execution_count": 8,
   "metadata": {
    "ExecuteTime": {
     "end_time": "2019-05-13T09:01:52.655613Z",
     "start_time": "2019-05-13T09:01:52.643580Z"
    }
   },
   "outputs": [
    {
     "name": "stdout",
     "output_type": "stream",
     "text": [
      "(4886, 50)\n",
      "128\n",
      "(4758, 50)\n"
     ]
    }
   ],
   "source": [
    "# Take out players that show up for only one row\n",
    "print(transfer_df_adj2.shape)\n",
    "transfer_season_cnt = Counter(transfer_df_adj2.Player)\n",
    "single_season_player_list = []\n",
    "for player in list(set(transfer_df_adj2.Player)):\n",
    "    if transfer_season_cnt[player] < 2:\n",
    "        single_season_player_list.append(player)\n",
    "print(len(single_season_player_list))\n",
    "transfer_df_adj3 = transfer_df_adj2[~transfer_df_adj2.Player.isin(single_season_player_list)]\n",
    "print(transfer_df_adj3.shape)"
   ]
  },
  {
   "cell_type": "code",
   "execution_count": 9,
   "metadata": {
    "ExecuteTime": {
     "end_time": "2019-05-13T09:01:52.670530Z",
     "start_time": "2019-05-13T09:01:52.659921Z"
    }
   },
   "outputs": [
    {
     "data": {
      "text/plain": [
       "(4127, 50)"
      ]
     },
     "execution_count": 9,
     "metadata": {},
     "output_type": "execute_result"
    }
   ],
   "source": [
    "# Filter out the 2018 record\n",
    "transfer_df_adj4 = transfer_df_adj3[transfer_df_adj3.tr_yr != 2018]\n",
    "transfer_df_adj4.shape"
   ]
  },
  {
   "cell_type": "code",
   "execution_count": 10,
   "metadata": {
    "ExecuteTime": {
     "end_time": "2019-05-13T09:01:52.701354Z",
     "start_time": "2019-05-13T09:01:52.672933Z"
    }
   },
   "outputs": [
    {
     "name": "stdout",
     "output_type": "stream",
     "text": [
      "50\n",
      "50\n",
      "1084\n",
      "1084\n"
     ]
    },
    {
     "name": "stderr",
     "output_type": "stream",
     "text": [
      "/Users/xulian/anaconda3/lib/python3.6/site-packages/ipykernel_launcher.py:12: UserWarning: Boolean Series key will be reindexed to match DataFrame index.\n",
      "  if sys.path[0] == '':\n"
     ]
    }
   ],
   "source": [
    "# Number of new school player should be the same as \n",
    "# that of old school player\n",
    "transfer_df_new_skl = transfer_df_adj4[transfer_df_adj4.Team == \\\n",
    "                                       transfer_df_adj4.new_school_alias_match_pl]\n",
    "transfer_df_old_skl = transfer_df_adj4[transfer_df_adj4.Team == \\\n",
    "                                       transfer_df_adj4.prev_school_alias_match_pl]\n",
    "print(len(set(transfer_df_new_skl)))\n",
    "print(len(set(transfer_df_old_skl)))\n",
    "diff1 = list(set(transfer_df_new_skl.Player) - set(transfer_df_old_skl.Player))\n",
    "diff2 = list(set(transfer_df_old_skl.Player) - set(transfer_df_new_skl.Player))\n",
    "transfer_df_adj5 = transfer_df_adj4[~transfer_df_adj4.Player.isin(diff1)]\n",
    "transfer_df_adj6 =transfer_df_adj5[~transfer_df_adj4.Player.isin(diff2)]\n",
    "print(len(set(transfer_df_adj6[transfer_df_adj6.Team == \\\n",
    "                               transfer_df_adj6.new_school_alias_match_pl].Player)))\n",
    "print(len(set(transfer_df_adj6[transfer_df_adj6.Team == \\\n",
    "                               transfer_df_adj6.prev_school_alias_match_pl].Player)))"
   ]
  },
  {
   "cell_type": "code",
   "execution_count": 11,
   "metadata": {
    "ExecuteTime": {
     "end_time": "2019-05-13T09:01:52.730721Z",
     "start_time": "2019-05-13T09:01:52.703537Z"
    }
   },
   "outputs": [
    {
     "data": {
      "text/plain": [
       "Int64Index([  49,   50,   51,  348,  349,  350,  351,  352,  353,  365,\n",
       "            ...\n",
       "            4760, 4761, 4762, 4807, 4808, 4809, 4810, 4874, 4875, 4876],\n",
       "           dtype='int64', length=165)"
      ]
     },
     "execution_count": 11,
     "metadata": {},
     "output_type": "execute_result"
    }
   ],
   "source": [
    "# Investigate graduate transfer\n",
    "imm_eligible_transfer_df = transfer_df_adj6[transfer_df_adj6.imm_eligible == 1]\n",
    "imm_eligible_transfer_new_skl = imm_eligible_transfer_df[imm_eligible_transfer_df.Team == \\\n",
    "                                                         imm_eligible_transfer_df.new_school_alias_match_pl]\n",
    "anomaly_player_list = []\n",
    "for player in Counter(imm_eligible_transfer_new_skl.Player):\n",
    "    if Counter(imm_eligible_transfer_new_skl.Player)[player] > 1:\n",
    "        anomaly_player_list.append(player)\n",
    "        \n",
    "# Adjust\n",
    "transfer_df_adj6[transfer_df_adj6.Player.isin(anomaly_player_list)].index"
   ]
  },
  {
   "cell_type": "code",
   "execution_count": 12,
   "metadata": {
    "ExecuteTime": {
     "end_time": "2019-05-13T09:01:57.916761Z",
     "start_time": "2019-05-13T09:01:52.733460Z"
    }
   },
   "outputs": [
    {
     "name": "stderr",
     "output_type": "stream",
     "text": [
      "/Users/xulian/anaconda3/lib/python3.6/site-packages/pandas/core/indexing.py:543: SettingWithCopyWarning: \n",
      "A value is trying to be set on a copy of a slice from a DataFrame.\n",
      "Try using .loc[row_indexer,col_indexer] = value instead\n",
      "\n",
      "See the caveats in the documentation: http://pandas.pydata.org/pandas-docs/stable/indexing.html#indexing-view-versus-copy\n",
      "  self.obj[item] = s\n"
     ]
    }
   ],
   "source": [
    "# adjust the false 'graduate transfers' back to 'sit-out transfers'\n",
    "for idx in transfer_df_adj6[transfer_df_adj6.Player.isin(anomaly_player_list)].index:\n",
    "    transfer_df_adj6.loc[idx, 'imm_eligible'] = 0"
   ]
  },
  {
   "cell_type": "code",
   "execution_count": 13,
   "metadata": {
    "ExecuteTime": {
     "end_time": "2019-05-13T09:01:57.945396Z",
     "start_time": "2019-05-13T09:01:57.920474Z"
    }
   },
   "outputs": [],
   "source": [
    "# Test if there is an anomaly again\n",
    "imm_eligible_transfer_df = transfer_df_adj6[transfer_df_adj6.imm_eligible == 1]\n",
    "imm_eligible_transfer_new_skl = imm_eligible_transfer_df[imm_eligible_transfer_df.Team == \\\n",
    "                                                         imm_eligible_transfer_df.new_school_alias_match_pl]\n",
    "for player in Counter(imm_eligible_transfer_new_skl.Player):\n",
    "    if Counter(imm_eligible_transfer_new_skl.Player)[player] > 1:\n",
    "        print(player)"
   ]
  },
  {
   "cell_type": "code",
   "execution_count": 14,
   "metadata": {
    "ExecuteTime": {
     "end_time": "2019-05-13T09:01:57.956945Z",
     "start_time": "2019-05-13T09:01:57.947999Z"
    }
   },
   "outputs": [],
   "source": [
    "# Create two different dataframes\n",
    "# One for graudate transfers\n",
    "# One for sit-out transfers\n",
    "graduate_transfer_df = transfer_df_adj6[transfer_df_adj6.imm_eligible == 1]\n",
    "sit_out_transfer_df = transfer_df_adj6[transfer_df_adj6.imm_eligible == 0]"
   ]
  },
  {
   "cell_type": "code",
   "execution_count": 15,
   "metadata": {
    "ExecuteTime": {
     "end_time": "2019-05-13T09:01:57.965673Z",
     "start_time": "2019-05-13T09:01:57.959343Z"
    }
   },
   "outputs": [
    {
     "name": "stdout",
     "output_type": "stream",
     "text": [
      "Number of graduate transfers: 268\n",
      "Number of sit out transfers: 826\n"
     ]
    }
   ],
   "source": [
    "graduate_transfer_list = list(set(graduate_transfer_df.Player))\n",
    "print(f\"Number of graduate transfers: {len(graduate_transfer_list)}\")\n",
    "sit_out_transfer_list = list(set(sit_out_transfer_df.Player))\n",
    "print(f\"Number of sit out transfers: {len(sit_out_transfer_list)}\")"
   ]
  },
  {
   "cell_type": "code",
   "execution_count": 16,
   "metadata": {
    "ExecuteTime": {
     "end_time": "2019-05-13T09:01:59.044195Z",
     "start_time": "2019-05-13T09:01:57.968209Z"
    }
   },
   "outputs": [
    {
     "name": "stderr",
     "output_type": "stream",
     "text": [
      "/Users/xulian/anaconda3/lib/python3.6/site-packages/ipykernel_launcher.py:6: UserWarning: Boolean Series key will be reindexed to match DataFrame index.\n",
      "  \n"
     ]
    },
    {
     "data": {
      "text/plain": [
       "(266, 52)"
      ]
     },
     "execution_count": 16,
     "metadata": {},
     "output_type": "execute_result"
    }
   ],
   "source": [
    "# Get first post-transfer season BPM for graduate transfers \n",
    "graduate_transfer_df_list = []\n",
    "for player in graduate_transfer_list:\n",
    "    temp_df = graduate_transfer_df[graduate_transfer_df.Player == player]\n",
    "    temp_df_adj = temp_df[temp_df.Team == temp_df.new_school_alias_match_pl]\n",
    "    temp_df_adj2 = temp_df_adj[temp_df.Season == temp_df_adj.Season.min()]\n",
    "    graduate_transfer_df_list.append(temp_df_adj2)\n",
    "graduate_transfer_1st_season_df = pd.concat(graduate_transfer_df_list)\n",
    "graduate_transfer_1st_season_df[\"prev_school_wide_bucket\"] = graduate_transfer_1st_season_df.prev_school_bucket\\\n",
    "                                                                                            .apply(lambda x: getWideBucket(x))\n",
    "graduate_transfer_1st_season_df[\"new_school_wide_bucket\"] = graduate_transfer_1st_season_df.new_school_bucket\\\n",
    "                                                                                            .apply(lambda x: getWideBucket(x))\n",
    "\n",
    "graduate_transfer_1st_season_df.shape"
   ]
  },
  {
   "cell_type": "code",
   "execution_count": 17,
   "metadata": {
    "ExecuteTime": {
     "end_time": "2019-05-13T09:02:02.355731Z",
     "start_time": "2019-05-13T09:01:59.046157Z"
    }
   },
   "outputs": [
    {
     "name": "stderr",
     "output_type": "stream",
     "text": [
      "/Users/xulian/anaconda3/lib/python3.6/site-packages/ipykernel_launcher.py:6: UserWarning: Boolean Series key will be reindexed to match DataFrame index.\n",
      "  \n"
     ]
    },
    {
     "data": {
      "text/plain": [
       "(818, 52)"
      ]
     },
     "execution_count": 17,
     "metadata": {},
     "output_type": "execute_result"
    }
   ],
   "source": [
    "# Get first post-transfer season BPM for sit out transfers \n",
    "sit_out_transfer_df_list = []\n",
    "for player in sit_out_transfer_list:\n",
    "    temp_df = sit_out_transfer_df[sit_out_transfer_df.Player == player]\n",
    "    temp_df_adj = temp_df[temp_df.Team == temp_df.new_school_alias_match_pl]\n",
    "    temp_df_adj2 = temp_df_adj[temp_df.Season == temp_df_adj.Season.min()]\n",
    "    sit_out_transfer_df_list.append(temp_df_adj2)\n",
    "sit_out_transfer_1st_season_df = pd.concat(sit_out_transfer_df_list)\n",
    "sit_out_transfer_1st_season_df[\"prev_school_wide_bucket\"] = sit_out_transfer_1st_season_df.prev_school_bucket\\\n",
    "                                                                                            .apply(lambda x: getWideBucket(x))\n",
    "sit_out_transfer_1st_season_df[\"new_school_wide_bucket\"] = sit_out_transfer_1st_season_df.new_school_bucket\\\n",
    "                                                                                            .apply(lambda x: getWideBucket(x))\n",
    "\n",
    "sit_out_transfer_1st_season_df.shape"
   ]
  },
  {
   "cell_type": "code",
   "execution_count": 18,
   "metadata": {
    "ExecuteTime": {
     "end_time": "2019-05-13T09:02:02.375978Z",
     "start_time": "2019-05-13T09:02:02.360084Z"
    }
   },
   "outputs": [
    {
     "data": {
      "text/html": [
       "<div>\n",
       "<style scoped>\n",
       "    .dataframe tbody tr th:only-of-type {\n",
       "        vertical-align: middle;\n",
       "    }\n",
       "\n",
       "    .dataframe tbody tr th {\n",
       "        vertical-align: top;\n",
       "    }\n",
       "\n",
       "    .dataframe thead th {\n",
       "        text-align: right;\n",
       "    }\n",
       "</style>\n",
       "<table border=\"1\" class=\"dataframe\">\n",
       "  <thead>\n",
       "    <tr style=\"text-align: right;\">\n",
       "      <th></th>\n",
       "      <th>prev_school_wide_bucket</th>\n",
       "      <th>new_school_wide_bucket</th>\n",
       "      <th>BPM</th>\n",
       "    </tr>\n",
       "  </thead>\n",
       "  <tbody>\n",
       "    <tr>\n",
       "      <th>0</th>\n",
       "      <td>High-Majors</td>\n",
       "      <td>High-Majors</td>\n",
       "      <td>4.177778</td>\n",
       "    </tr>\n",
       "    <tr>\n",
       "      <th>1</th>\n",
       "      <td>High-Majors</td>\n",
       "      <td>Low-Majors</td>\n",
       "      <td>-3.010000</td>\n",
       "    </tr>\n",
       "    <tr>\n",
       "      <th>2</th>\n",
       "      <td>High-Majors</td>\n",
       "      <td>Mid-Majors</td>\n",
       "      <td>-0.110714</td>\n",
       "    </tr>\n",
       "    <tr>\n",
       "      <th>3</th>\n",
       "      <td>Low-Majors</td>\n",
       "      <td>High-Majors</td>\n",
       "      <td>1.513043</td>\n",
       "    </tr>\n",
       "    <tr>\n",
       "      <th>4</th>\n",
       "      <td>Low-Majors</td>\n",
       "      <td>Low-Majors</td>\n",
       "      <td>-3.741379</td>\n",
       "    </tr>\n",
       "    <tr>\n",
       "      <th>5</th>\n",
       "      <td>Low-Majors</td>\n",
       "      <td>Mid-Majors</td>\n",
       "      <td>-1.126923</td>\n",
       "    </tr>\n",
       "    <tr>\n",
       "      <th>6</th>\n",
       "      <td>Mid-Majors</td>\n",
       "      <td>High-Majors</td>\n",
       "      <td>2.752632</td>\n",
       "    </tr>\n",
       "    <tr>\n",
       "      <th>7</th>\n",
       "      <td>Mid-Majors</td>\n",
       "      <td>Low-Majors</td>\n",
       "      <td>-3.961364</td>\n",
       "    </tr>\n",
       "    <tr>\n",
       "      <th>8</th>\n",
       "      <td>Mid-Majors</td>\n",
       "      <td>Mid-Majors</td>\n",
       "      <td>-0.729032</td>\n",
       "    </tr>\n",
       "  </tbody>\n",
       "</table>\n",
       "</div>"
      ],
      "text/plain": [
       "  prev_school_wide_bucket new_school_wide_bucket       BPM\n",
       "0             High-Majors            High-Majors  4.177778\n",
       "1             High-Majors             Low-Majors -3.010000\n",
       "2             High-Majors             Mid-Majors -0.110714\n",
       "3              Low-Majors            High-Majors  1.513043\n",
       "4              Low-Majors             Low-Majors -3.741379\n",
       "5              Low-Majors             Mid-Majors -1.126923\n",
       "6              Mid-Majors            High-Majors  2.752632\n",
       "7              Mid-Majors             Low-Majors -3.961364\n",
       "8              Mid-Majors             Mid-Majors -0.729032"
      ]
     },
     "execution_count": 18,
     "metadata": {},
     "output_type": "execute_result"
    }
   ],
   "source": [
    "# Get average BPM grouped by all of the 9 scenarios \n",
    "# for graduate transfers\n",
    "graduate_transfer_1st_season_groupby_df = graduate_transfer_1st_season_df.groupby(by=['prev_school_wide_bucket',\n",
    "                                                                                      'new_school_wide_bucket'])['BPM']\\\n",
    "                                                                         .mean().reset_index()\n",
    "graduate_transfer_1st_season_groupby_df"
   ]
  },
  {
   "cell_type": "code",
   "execution_count": 19,
   "metadata": {
    "ExecuteTime": {
     "end_time": "2019-05-13T09:02:02.393649Z",
     "start_time": "2019-05-13T09:02:02.379156Z"
    }
   },
   "outputs": [
    {
     "data": {
      "text/html": [
       "<div>\n",
       "<style scoped>\n",
       "    .dataframe tbody tr th:only-of-type {\n",
       "        vertical-align: middle;\n",
       "    }\n",
       "\n",
       "    .dataframe tbody tr th {\n",
       "        vertical-align: top;\n",
       "    }\n",
       "\n",
       "    .dataframe thead th {\n",
       "        text-align: right;\n",
       "    }\n",
       "</style>\n",
       "<table border=\"1\" class=\"dataframe\">\n",
       "  <thead>\n",
       "    <tr style=\"text-align: right;\">\n",
       "      <th></th>\n",
       "      <th>prev_school_wide_bucket</th>\n",
       "      <th>new_school_wide_bucket</th>\n",
       "      <th>BPM</th>\n",
       "    </tr>\n",
       "  </thead>\n",
       "  <tbody>\n",
       "    <tr>\n",
       "      <th>0</th>\n",
       "      <td>High-Majors</td>\n",
       "      <td>High-Majors</td>\n",
       "      <td>3.140909</td>\n",
       "    </tr>\n",
       "    <tr>\n",
       "      <th>1</th>\n",
       "      <td>High-Majors</td>\n",
       "      <td>Low-Majors</td>\n",
       "      <td>-3.141026</td>\n",
       "    </tr>\n",
       "    <tr>\n",
       "      <th>2</th>\n",
       "      <td>High-Majors</td>\n",
       "      <td>Mid-Majors</td>\n",
       "      <td>-0.180822</td>\n",
       "    </tr>\n",
       "    <tr>\n",
       "      <th>3</th>\n",
       "      <td>Low-Majors</td>\n",
       "      <td>High-Majors</td>\n",
       "      <td>-2.157692</td>\n",
       "    </tr>\n",
       "    <tr>\n",
       "      <th>4</th>\n",
       "      <td>Low-Majors</td>\n",
       "      <td>Low-Majors</td>\n",
       "      <td>-3.755238</td>\n",
       "    </tr>\n",
       "    <tr>\n",
       "      <th>5</th>\n",
       "      <td>Low-Majors</td>\n",
       "      <td>Mid-Majors</td>\n",
       "      <td>-0.458929</td>\n",
       "    </tr>\n",
       "    <tr>\n",
       "      <th>6</th>\n",
       "      <td>Mid-Majors</td>\n",
       "      <td>High-Majors</td>\n",
       "      <td>3.892424</td>\n",
       "    </tr>\n",
       "    <tr>\n",
       "      <th>7</th>\n",
       "      <td>Mid-Majors</td>\n",
       "      <td>Low-Majors</td>\n",
       "      <td>-3.351163</td>\n",
       "    </tr>\n",
       "    <tr>\n",
       "      <th>8</th>\n",
       "      <td>Mid-Majors</td>\n",
       "      <td>Mid-Majors</td>\n",
       "      <td>-0.068627</td>\n",
       "    </tr>\n",
       "  </tbody>\n",
       "</table>\n",
       "</div>"
      ],
      "text/plain": [
       "  prev_school_wide_bucket new_school_wide_bucket       BPM\n",
       "0             High-Majors            High-Majors  3.140909\n",
       "1             High-Majors             Low-Majors -3.141026\n",
       "2             High-Majors             Mid-Majors -0.180822\n",
       "3              Low-Majors            High-Majors -2.157692\n",
       "4              Low-Majors             Low-Majors -3.755238\n",
       "5              Low-Majors             Mid-Majors -0.458929\n",
       "6              Mid-Majors            High-Majors  3.892424\n",
       "7              Mid-Majors             Low-Majors -3.351163\n",
       "8              Mid-Majors             Mid-Majors -0.068627"
      ]
     },
     "execution_count": 19,
     "metadata": {},
     "output_type": "execute_result"
    }
   ],
   "source": [
    "# Get average BPM grouped by all of the 9 scenarios \n",
    "# for sit out transfers\n",
    "sit_out_transfer_1st_season_groupby_df = sit_out_transfer_1st_season_df.groupby(by=['prev_school_wide_bucket',\n",
    "                                                                                    'new_school_wide_bucket'])['BPM']\\\n",
    "                                                                         .mean().reset_index()\n",
    "sit_out_transfer_1st_season_groupby_df"
   ]
  },
  {
   "cell_type": "code",
   "execution_count": 20,
   "metadata": {
    "ExecuteTime": {
     "end_time": "2019-05-13T09:02:02.398505Z",
     "start_time": "2019-05-13T09:02:02.395923Z"
    }
   },
   "outputs": [],
   "source": [
    "# # Save Dataset to transfers.csv for next step of data visualization\n",
    "# transfer_last_season_df_above_median.to_csv(\"transfers.csv\", index=False)"
   ]
  },
  {
   "cell_type": "markdown",
   "metadata": {},
   "source": [
    "## Data Visualization"
   ]
  },
  {
   "cell_type": "markdown",
   "metadata": {},
   "source": [
    "By using Tableau, below is the barplot."
   ]
  },
  {
   "cell_type": "markdown",
   "metadata": {},
   "source": [
    "<img src='Barplot.png'>"
   ]
  }
 ],
 "metadata": {
  "kernelspec": {
   "display_name": "Python 3",
   "language": "python",
   "name": "python3"
  },
  "language_info": {
   "codemirror_mode": {
    "name": "ipython",
    "version": 3
   },
   "file_extension": ".py",
   "mimetype": "text/x-python",
   "name": "python",
   "nbconvert_exporter": "python",
   "pygments_lexer": "ipython3",
   "version": "3.6.7"
  }
 },
 "nbformat": 4,
 "nbformat_minor": 2
}
