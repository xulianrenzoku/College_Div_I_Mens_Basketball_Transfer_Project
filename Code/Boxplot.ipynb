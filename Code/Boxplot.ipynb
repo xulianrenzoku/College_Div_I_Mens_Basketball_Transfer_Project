{
 "cells": [
  {
   "cell_type": "code",
   "execution_count": 1,
   "metadata": {
    "ExecuteTime": {
     "end_time": "2019-05-13T09:02:46.137004Z",
     "start_time": "2019-05-13T09:02:45.546075Z"
    }
   },
   "outputs": [],
   "source": [
    "import pandas as pd\n",
    "import numpy as np\n",
    "from IPython.core.pylabtools import figsize\n",
    "from matplotlib import pyplot as plt\n",
    "from collections import Counter"
   ]
  },
  {
   "cell_type": "markdown",
   "metadata": {},
   "source": [
    "## Load the dataset"
   ]
  },
  {
   "cell_type": "code",
   "execution_count": 2,
   "metadata": {
    "ExecuteTime": {
     "end_time": "2019-05-13T09:02:46.215608Z",
     "start_time": "2019-05-13T09:02:46.139889Z"
    }
   },
   "outputs": [
    {
     "data": {
      "text/plain": [
       "(4891, 48)"
      ]
     },
     "execution_count": 2,
     "metadata": {},
     "output_type": "execute_result"
    }
   ],
   "source": [
    "# Load the transfer dataset\n",
    "transfer_df = pd.read_csv(\"../../TransfersWithStats.csv\")\\\n",
    "                .drop(\"Unnamed: 0\", axis=1)\n",
    "transfer_df.shape"
   ]
  },
  {
   "cell_type": "code",
   "execution_count": 3,
   "metadata": {
    "ExecuteTime": {
     "end_time": "2019-05-13T09:02:46.239097Z",
     "start_time": "2019-05-13T09:02:46.218653Z"
    }
   },
   "outputs": [
    {
     "data": {
      "text/plain": [
       "361"
      ]
     },
     "execution_count": 3,
     "metadata": {},
     "output_type": "execute_result"
    }
   ],
   "source": [
    "# Load the bucket dataset\n",
    "bucket_df = pd.read_csv(\"../../Corrected_School_List_Buckets.csv\")\\\n",
    "            [[\"TeamName\",'Definitive Bucket']]\n",
    "len(bucket_df) # number of Div. I schools"
   ]
  },
  {
   "cell_type": "code",
   "execution_count": 4,
   "metadata": {
    "ExecuteTime": {
     "end_time": "2019-05-13T09:02:46.634701Z",
     "start_time": "2019-05-13T09:02:46.242235Z"
    }
   },
   "outputs": [
    {
     "data": {
      "text/plain": [
       "(42500, 40)"
      ]
     },
     "execution_count": 4,
     "metadata": {},
     "output_type": "execute_result"
    }
   ],
   "source": [
    "# Load the player stats dataset\n",
    "ncaa_player_df = pd.read_csv(\"../../AllNCAAPlayers12to19.csv\")\\\n",
    "                   .drop(\"Unnamed: 0\", axis=1)\n",
    "ncaa_player_df.shape"
   ]
  },
  {
   "cell_type": "code",
   "execution_count": 5,
   "metadata": {
    "ExecuteTime": {
     "end_time": "2019-05-13T09:02:46.641849Z",
     "start_time": "2019-05-13T09:02:46.637656Z"
    }
   },
   "outputs": [],
   "source": [
    "# Preprocess the player stats dataset for this visualization task\n",
    "ncaa_player_df_adj = ncaa_player_df[[\"Team_x\", \"Player\", \"Season\", \"BPM\"]]"
   ]
  },
  {
   "cell_type": "markdown",
   "metadata": {},
   "source": [
    "## Bucket Functions"
   ]
  },
  {
   "cell_type": "code",
   "execution_count": 6,
   "metadata": {
    "ExecuteTime": {
     "end_time": "2019-05-13T09:02:46.651919Z",
     "start_time": "2019-05-13T09:02:46.644120Z"
    }
   },
   "outputs": [
    {
     "name": "stdout",
     "output_type": "stream",
     "text": [
      "5\n",
      "0\n"
     ]
    }
   ],
   "source": [
    "# Define a function that gets the rating of a program\n",
    "def get_bucket(school):\n",
    "    if school in bucket_df.TeamName.values:\n",
    "        return bucket_df[bucket_df.TeamName == school]\\\n",
    "                        [\"Definitive Bucket\"].values[0]\n",
    "    else:\n",
    "        return 0\n",
    "print(get_bucket(\"San Francisco\")) # test a Div.I program\n",
    "print(get_bucket(\"BYU-Hawaii\")) # test a non-Div.I program"
   ]
  },
  {
   "cell_type": "code",
   "execution_count": 7,
   "metadata": {
    "ExecuteTime": {
     "end_time": "2019-05-13T09:02:46.657316Z",
     "start_time": "2019-05-13T09:02:46.653799Z"
    }
   },
   "outputs": [
    {
     "name": "stdout",
     "output_type": "stream",
     "text": [
      "High-Majors\n"
     ]
    }
   ],
   "source": [
    "# Define a function that puts 1-9 scale into 3 wide buckets\n",
    "def getWideBucket(num):\n",
    "    if num < 4:\n",
    "        return \"Low-Majors\"\n",
    "    elif num < 7:\n",
    "        return \"Mid-Majors\"\n",
    "    else:\n",
    "        return \"High-Majors\"\n",
    "\n",
    "print(getWideBucket(9))"
   ]
  },
  {
   "cell_type": "markdown",
   "metadata": {},
   "source": [
    "## Data-Preprocessing"
   ]
  },
  {
   "cell_type": "code",
   "execution_count": 8,
   "metadata": {
    "ExecuteTime": {
     "end_time": "2019-05-13T09:02:46.669609Z",
     "start_time": "2019-05-13T09:02:46.659842Z"
    }
   },
   "outputs": [
    {
     "name": "stdout",
     "output_type": "stream",
     "text": [
      "4891 4569\n"
     ]
    }
   ],
   "source": [
    "# Filter out bad match\n",
    "transfer_df_adj = transfer_df[(transfer_df.Team == \\\n",
    "                               transfer_df.new_school_alias_match_pl) |\n",
    "                              (transfer_df.Team == \\\n",
    "                               transfer_df.prev_school_alias_match_pl)]\n",
    "print(transfer_df.shape[0], transfer_df_adj.shape[0])"
   ]
  },
  {
   "cell_type": "code",
   "execution_count": 9,
   "metadata": {
    "ExecuteTime": {
     "end_time": "2019-05-13T09:02:51.989217Z",
     "start_time": "2019-05-13T09:02:46.671524Z"
    }
   },
   "outputs": [
    {
     "name": "stderr",
     "output_type": "stream",
     "text": [
      "/Users/xulian/anaconda3/lib/python3.6/site-packages/ipykernel_launcher.py:5: SettingWithCopyWarning: \n",
      "A value is trying to be set on a copy of a slice from a DataFrame.\n",
      "Try using .loc[row_indexer,col_indexer] = value instead\n",
      "\n",
      "See the caveats in the documentation: http://pandas.pydata.org/pandas-docs/stable/indexing.html#indexing-view-versus-copy\n",
      "  \"\"\"\n",
      "/Users/xulian/anaconda3/lib/python3.6/site-packages/ipykernel_launcher.py:8: SettingWithCopyWarning: \n",
      "A value is trying to be set on a copy of a slice from a DataFrame.\n",
      "Try using .loc[row_indexer,col_indexer] = value instead\n",
      "\n",
      "See the caveats in the documentation: http://pandas.pydata.org/pandas-docs/stable/indexing.html#indexing-view-versus-copy\n",
      "  \n"
     ]
    }
   ],
   "source": [
    "# Get bucket for each row\n",
    "transfer_df_adj2 = transfer_df[transfer_df.Player != 'Anthony Horton']\n",
    "transfer_df_adj2[\"prev_school_bucket\"] = transfer_df_adj2.prev_school\\\n",
    "                                                         .apply(lambda x: x.replace('UNCG', 'UNC Greensboro'))\\\n",
    "                                                         .apply(get_bucket)\n",
    "transfer_df_adj2[\"new_school_bucket\"] = transfer_df_adj2.new_school\\\n",
    "                                                        .apply(lambda x: x.replace('UNCG', 'UNC Greensboro'))\\\n",
    "                                                        .apply(get_bucket)"
   ]
  },
  {
   "cell_type": "code",
   "execution_count": 10,
   "metadata": {
    "ExecuteTime": {
     "end_time": "2019-05-13T09:02:52.005724Z",
     "start_time": "2019-05-13T09:02:51.991935Z"
    }
   },
   "outputs": [
    {
     "name": "stdout",
     "output_type": "stream",
     "text": [
      "(4886, 50)\n",
      "128\n",
      "(4758, 50)\n"
     ]
    }
   ],
   "source": [
    "# Take out players that show up for only one row\n",
    "print(transfer_df_adj2.shape)\n",
    "transfer_season_cnt = Counter(transfer_df_adj2.Player)\n",
    "single_season_player_list = []\n",
    "for player in list(set(transfer_df_adj2.Player)):\n",
    "    if transfer_season_cnt[player] < 2:\n",
    "        single_season_player_list.append(player)\n",
    "print(len(single_season_player_list))\n",
    "transfer_df_adj3 = transfer_df_adj2[~transfer_df_adj2.Player.isin(single_season_player_list)]\n",
    "print(transfer_df_adj3.shape)"
   ]
  },
  {
   "cell_type": "code",
   "execution_count": 11,
   "metadata": {
    "ExecuteTime": {
     "end_time": "2019-05-13T09:02:52.017548Z",
     "start_time": "2019-05-13T09:02:52.008434Z"
    }
   },
   "outputs": [
    {
     "data": {
      "text/plain": [
       "(4127, 50)"
      ]
     },
     "execution_count": 11,
     "metadata": {},
     "output_type": "execute_result"
    }
   ],
   "source": [
    "# Filter out the 2018 record\n",
    "transfer_df_adj4 = transfer_df_adj3[transfer_df_adj3.tr_yr != 2018]\n",
    "transfer_df_adj4.shape"
   ]
  },
  {
   "cell_type": "code",
   "execution_count": 12,
   "metadata": {
    "ExecuteTime": {
     "end_time": "2019-05-13T09:02:52.049960Z",
     "start_time": "2019-05-13T09:02:52.020944Z"
    }
   },
   "outputs": [
    {
     "name": "stdout",
     "output_type": "stream",
     "text": [
      "50\n",
      "50\n",
      "1084\n",
      "1084\n"
     ]
    },
    {
     "name": "stderr",
     "output_type": "stream",
     "text": [
      "/Users/xulian/anaconda3/lib/python3.6/site-packages/ipykernel_launcher.py:12: UserWarning: Boolean Series key will be reindexed to match DataFrame index.\n",
      "  if sys.path[0] == '':\n"
     ]
    }
   ],
   "source": [
    "# Number of new school player should be the same as \n",
    "# that of old school player\n",
    "transfer_df_new_skl = transfer_df_adj4[transfer_df_adj4.Team == \\\n",
    "                                       transfer_df_adj4.new_school_alias_match_pl]\n",
    "transfer_df_old_skl = transfer_df_adj4[transfer_df_adj4.Team == \\\n",
    "                                       transfer_df_adj4.prev_school_alias_match_pl]\n",
    "print(len(set(transfer_df_new_skl)))\n",
    "print(len(set(transfer_df_old_skl)))\n",
    "diff1 = list(set(transfer_df_new_skl.Player) - set(transfer_df_old_skl.Player))\n",
    "diff2 = list(set(transfer_df_old_skl.Player) - set(transfer_df_new_skl.Player))\n",
    "transfer_df_adj5 = transfer_df_adj4[~transfer_df_adj4.Player.isin(diff1)]\n",
    "transfer_df_adj6 =transfer_df_adj5[~transfer_df_adj4.Player.isin(diff2)]\n",
    "print(len(set(transfer_df_adj6[transfer_df_adj6.Team == \\\n",
    "                               transfer_df_adj6.new_school_alias_match_pl].Player)))\n",
    "print(len(set(transfer_df_adj6[transfer_df_adj6.Team == \\\n",
    "                               transfer_df_adj6.prev_school_alias_match_pl].Player)))"
   ]
  },
  {
   "cell_type": "code",
   "execution_count": 13,
   "metadata": {
    "ExecuteTime": {
     "end_time": "2019-05-13T09:02:52.093830Z",
     "start_time": "2019-05-13T09:02:52.053427Z"
    }
   },
   "outputs": [
    {
     "data": {
      "text/plain": [
       "Int64Index([  49,   50,   51,  348,  349,  350,  351,  352,  353,  365,\n",
       "            ...\n",
       "            4760, 4761, 4762, 4807, 4808, 4809, 4810, 4874, 4875, 4876],\n",
       "           dtype='int64', length=165)"
      ]
     },
     "execution_count": 13,
     "metadata": {},
     "output_type": "execute_result"
    }
   ],
   "source": [
    "# Investigate graduate transfer\n",
    "imm_eligible_transfer_df = transfer_df_adj6[transfer_df_adj6.imm_eligible == 1]\n",
    "imm_eligible_transfer_new_skl = imm_eligible_transfer_df[imm_eligible_transfer_df.Team == \\\n",
    "                                                         imm_eligible_transfer_df.new_school_alias_match_pl]\n",
    "anomaly_player_list = []\n",
    "for player in Counter(imm_eligible_transfer_new_skl.Player):\n",
    "    if Counter(imm_eligible_transfer_new_skl.Player)[player] > 1:\n",
    "        anomaly_player_list.append(player)\n",
    "        \n",
    "# Adjust\n",
    "transfer_df_adj6[transfer_df_adj6.Player.isin(anomaly_player_list)].index"
   ]
  },
  {
   "cell_type": "code",
   "execution_count": 14,
   "metadata": {
    "ExecuteTime": {
     "end_time": "2019-05-13T09:02:57.169230Z",
     "start_time": "2019-05-13T09:02:52.096356Z"
    }
   },
   "outputs": [
    {
     "name": "stderr",
     "output_type": "stream",
     "text": [
      "/Users/xulian/anaconda3/lib/python3.6/site-packages/pandas/core/indexing.py:543: SettingWithCopyWarning: \n",
      "A value is trying to be set on a copy of a slice from a DataFrame.\n",
      "Try using .loc[row_indexer,col_indexer] = value instead\n",
      "\n",
      "See the caveats in the documentation: http://pandas.pydata.org/pandas-docs/stable/indexing.html#indexing-view-versus-copy\n",
      "  self.obj[item] = s\n"
     ]
    }
   ],
   "source": [
    "# adjust the false 'graduate transfers' back to 'sit-out transfers'\n",
    "for idx in transfer_df_adj6[transfer_df_adj6.Player.isin(anomaly_player_list)].index:\n",
    "    transfer_df_adj6.loc[idx, 'imm_eligible'] = 0"
   ]
  },
  {
   "cell_type": "code",
   "execution_count": 15,
   "metadata": {
    "ExecuteTime": {
     "end_time": "2019-05-13T09:02:57.202385Z",
     "start_time": "2019-05-13T09:02:57.173194Z"
    }
   },
   "outputs": [],
   "source": [
    "# Test if there is an anomaly again\n",
    "imm_eligible_transfer_df = transfer_df_adj6[transfer_df_adj6.imm_eligible == 1]\n",
    "imm_eligible_transfer_new_skl = imm_eligible_transfer_df[imm_eligible_transfer_df.Team == \\\n",
    "                                                         imm_eligible_transfer_df.new_school_alias_match_pl]\n",
    "for player in Counter(imm_eligible_transfer_new_skl.Player):\n",
    "    if Counter(imm_eligible_transfer_new_skl.Player)[player] > 1:\n",
    "        print(player)"
   ]
  },
  {
   "cell_type": "code",
   "execution_count": 16,
   "metadata": {
    "ExecuteTime": {
     "end_time": "2019-05-13T09:02:57.213105Z",
     "start_time": "2019-05-13T09:02:57.204521Z"
    }
   },
   "outputs": [],
   "source": [
    "# Create two different dataframes\n",
    "# One for graudate transfers\n",
    "# One for sit-out transfers\n",
    "graduate_transfer_df = transfer_df_adj6[transfer_df_adj6.imm_eligible == 1]\n",
    "sit_out_transfer_df = transfer_df_adj6[transfer_df_adj6.imm_eligible == 0]"
   ]
  },
  {
   "cell_type": "code",
   "execution_count": 17,
   "metadata": {
    "ExecuteTime": {
     "end_time": "2019-05-13T09:02:57.222738Z",
     "start_time": "2019-05-13T09:02:57.215482Z"
    }
   },
   "outputs": [
    {
     "name": "stdout",
     "output_type": "stream",
     "text": [
      "Number of graduate transfers: 268\n",
      "Number of sit out transfers: 826\n"
     ]
    }
   ],
   "source": [
    "graduate_transfer_list = list(set(graduate_transfer_df.Player))\n",
    "print(f\"Number of graduate transfers: {len(graduate_transfer_list)}\")\n",
    "sit_out_transfer_list = list(set(sit_out_transfer_df.Player))\n",
    "print(f\"Number of sit out transfers: {len(sit_out_transfer_list)}\")"
   ]
  },
  {
   "cell_type": "code",
   "execution_count": 18,
   "metadata": {
    "ExecuteTime": {
     "end_time": "2019-05-13T09:02:58.444285Z",
     "start_time": "2019-05-13T09:02:57.229633Z"
    }
   },
   "outputs": [
    {
     "name": "stderr",
     "output_type": "stream",
     "text": [
      "/Users/xulian/anaconda3/lib/python3.6/site-packages/ipykernel_launcher.py:6: UserWarning: Boolean Series key will be reindexed to match DataFrame index.\n",
      "  \n"
     ]
    },
    {
     "data": {
      "text/plain": [
       "(266, 52)"
      ]
     },
     "execution_count": 18,
     "metadata": {},
     "output_type": "execute_result"
    }
   ],
   "source": [
    "# Get last pre-transfer season BPM for graduate transfers\n",
    "graduate_transfer_df_list = []\n",
    "for player in graduate_transfer_list:\n",
    "    temp_df = graduate_transfer_df[graduate_transfer_df.Player == player]\n",
    "    temp_df_adj = temp_df[temp_df.Team == temp_df.prev_school_alias_match_pl]\n",
    "    temp_df_adj2 = temp_df_adj[temp_df.Season == temp_df_adj.Season.max()]\n",
    "    graduate_transfer_df_list.append(temp_df_adj2)\n",
    "graduate_transfer_last_season_df = pd.concat(graduate_transfer_df_list)\n",
    "graduate_transfer_last_season_df[\"prev_school_wide_bucket\"] = graduate_transfer_last_season_df.prev_school_bucket\\\n",
    "                                                                                            .apply(lambda x: getWideBucket(x))\n",
    "graduate_transfer_last_season_df[\"new_school_wide_bucket\"] = graduate_transfer_last_season_df.new_school_bucket\\\n",
    "                                                                                            .apply(lambda x: getWideBucket(x))\n",
    "graduate_transfer_last_season_df.shape"
   ]
  },
  {
   "cell_type": "code",
   "execution_count": 19,
   "metadata": {
    "ExecuteTime": {
     "end_time": "2019-05-13T09:03:01.951527Z",
     "start_time": "2019-05-13T09:02:58.447274Z"
    }
   },
   "outputs": [
    {
     "name": "stderr",
     "output_type": "stream",
     "text": [
      "/Users/xulian/anaconda3/lib/python3.6/site-packages/ipykernel_launcher.py:6: UserWarning: Boolean Series key will be reindexed to match DataFrame index.\n",
      "  \n"
     ]
    },
    {
     "data": {
      "text/plain": [
       "(822, 52)"
      ]
     },
     "execution_count": 19,
     "metadata": {},
     "output_type": "execute_result"
    }
   ],
   "source": [
    "# Get last pre-transfer season BPM for sit out transfers\n",
    "sit_out_transfer_df_list = []\n",
    "for player in sit_out_transfer_list:\n",
    "    temp_df = sit_out_transfer_df[sit_out_transfer_df.Player == player]\n",
    "    temp_df_adj = temp_df[temp_df.Team == temp_df.prev_school_alias_match_pl]\n",
    "    temp_df_adj2 = temp_df_adj[temp_df.Season == temp_df_adj.Season.max()]\n",
    "    sit_out_transfer_df_list.append(temp_df_adj2)\n",
    "sit_out_transfer_last_season_df = pd.concat(sit_out_transfer_df_list)\n",
    "sit_out_transfer_last_season_df[\"prev_school_wide_bucket\"] = sit_out_transfer_last_season_df.prev_school_bucket\\\n",
    "                                                                                            .apply(lambda x: getWideBucket(x))\n",
    "sit_out_transfer_last_season_df[\"new_school_wide_bucket\"] = sit_out_transfer_last_season_df.new_school_bucket\\\n",
    "                                                                                            .apply(lambda x: getWideBucket(x))\n",
    "\n",
    "sit_out_transfer_last_season_df.shape"
   ]
  },
  {
   "cell_type": "code",
   "execution_count": 20,
   "metadata": {
    "ExecuteTime": {
     "end_time": "2019-05-13T09:03:02.036205Z",
     "start_time": "2019-05-13T09:03:01.953436Z"
    }
   },
   "outputs": [
    {
     "name": "stderr",
     "output_type": "stream",
     "text": [
      "/Users/xulian/anaconda3/lib/python3.6/site-packages/ipykernel_launcher.py:6: SettingWithCopyWarning: \n",
      "A value is trying to be set on a copy of a slice from a DataFrame.\n",
      "Try using .loc[row_indexer,col_indexer] = value instead\n",
      "\n",
      "See the caveats in the documentation: http://pandas.pydata.org/pandas-docs/stable/indexing.html#indexing-view-versus-copy\n",
      "  \n",
      "/Users/xulian/anaconda3/lib/python3.6/site-packages/ipykernel_launcher.py:11: SettingWithCopyWarning: \n",
      "A value is trying to be set on a copy of a slice from a DataFrame.\n",
      "Try using .loc[row_indexer,col_indexer] = value instead\n",
      "\n",
      "See the caveats in the documentation: http://pandas.pydata.org/pandas-docs/stable/indexing.html#indexing-view-versus-copy\n",
      "  # This is added back by InteractiveShellApp.init_path()\n"
     ]
    },
    {
     "data": {
      "text/plain": [
       "(1088, 10)"
      ]
     },
     "execution_count": 20,
     "metadata": {},
     "output_type": "execute_result"
    }
   ],
   "source": [
    "# Merge graduate transfers and sit out transfers into one dataframe\n",
    "graduate_transfer_last_season_df_adj = graduate_transfer_last_season_df[[\"Team\", \"Player\", \"MP\", \"BPM\", \"Season\",\n",
    "                                                                         \"prev_school\", \"new_school\", \n",
    "                                                                         \"prev_school_wide_bucket\", \n",
    "                                                                         \"new_school_wide_bucket\"]]\n",
    "graduate_transfer_last_season_df_adj[\"Type\"] = \"graduate\"\n",
    "sit_out_transfer_last_season_df_adj = sit_out_transfer_last_season_df[[\"Team\", \"Player\", \"MP\", \"BPM\", \"Season\",\n",
    "                                                                       \"prev_school\", \"new_school\", \n",
    "                                                                       \"prev_school_wide_bucket\", \n",
    "                                                                       \"new_school_wide_bucket\"]]\n",
    "sit_out_transfer_last_season_df_adj[\"Type\"] = \"sit out\"\n",
    "transfer_last_season_df = pd.concat([graduate_transfer_last_season_df_adj,\n",
    "                                     sit_out_transfer_last_season_df_adj])\n",
    "transfer_last_season_df.shape"
   ]
  },
  {
   "cell_type": "code",
   "execution_count": 21,
   "metadata": {
    "ExecuteTime": {
     "end_time": "2019-05-13T09:03:02.053778Z",
     "start_time": "2019-05-13T09:03:02.039292Z"
    }
   },
   "outputs": [
    {
     "data": {
      "text/plain": [
       "(454, 10)"
      ]
     },
     "execution_count": 21,
     "metadata": {},
     "output_type": "execute_result"
    }
   ],
   "source": [
    "# Get transfers who 'transferred up'\n",
    "# Below are the Scenarios\n",
    "# High -> High\n",
    "# Mid -> High\n",
    "# Mid -> Mid\n",
    "# Low -> High\n",
    "# Low -> Mid\n",
    "\n",
    "transfer_last_season_df_adj1 = transfer_last_season_df[transfer_last_season_df.new_school_wide_bucket \\\n",
    "                                                       == 'High-Majors']\n",
    "transfer_last_season_df_adj2 = transfer_last_season_df[(transfer_last_season_df.new_school_wide_bucket \\\n",
    "                                                        == 'Mid-Majors') &\n",
    "                                                       (transfer_last_season_df.prev_school_wide_bucket \\\n",
    "                                                        != 'High-Majors')]\n",
    "transfer_last_season_df_adj = pd.concat([transfer_last_season_df_adj1, transfer_last_season_df_adj2])\n",
    "transfer_last_season_df_adj = transfer_last_season_df_adj[transfer_last_season_df_adj.MP > 100]\n",
    "transfer_last_season_df_adj.shape"
   ]
  },
  {
   "cell_type": "code",
   "execution_count": 22,
   "metadata": {
    "ExecuteTime": {
     "end_time": "2019-05-13T09:03:02.063615Z",
     "start_time": "2019-05-13T09:03:02.056421Z"
    }
   },
   "outputs": [
    {
     "data": {
      "text/plain": [
       "(314, 10)"
      ]
     },
     "execution_count": 22,
     "metadata": {},
     "output_type": "execute_result"
    }
   ],
   "source": [
    "# Filter out 'transfer up' players with below-median BPM\n",
    "transfer_last_season_df_above_median = transfer_last_season_df_adj[transfer_last_season_df_adj.BPM >= -1.9]\n",
    "transfer_last_season_df_above_median.shape"
   ]
  },
  {
   "cell_type": "markdown",
   "metadata": {},
   "source": [
    "## Compute 'Obstacle' Metric"
   ]
  },
  {
   "cell_type": "code",
   "execution_count": 23,
   "metadata": {
    "ExecuteTime": {
     "end_time": "2019-05-13T09:03:02.074505Z",
     "start_time": "2019-05-13T09:03:02.066929Z"
    }
   },
   "outputs": [],
   "source": [
    "# Define the obstacle function\n",
    "# Get the transfer's last pre-transfer season's BPM\n",
    "# Compare the BPM to the transfer's new team's players in the same season\n",
    "# If his 'future teammate' has a higher BPM, sum it up\n",
    "def getobstacle(dump):\n",
    "    bpm, season, new_school = dump\n",
    "    temp = ncaa_player_df_adj[ncaa_player_df_adj.Team_x == new_school]\n",
    "    temp = temp[temp.Season == season]\n",
    "    bpm_list = temp.BPM.values\n",
    "    obstacle = 0\n",
    "    for num in bpm_list:\n",
    "        if num > bpm:\n",
    "            obstacle += num\n",
    "    return obstacle"
   ]
  },
  {
   "cell_type": "code",
   "execution_count": 24,
   "metadata": {
    "ExecuteTime": {
     "end_time": "2019-05-13T09:03:03.583168Z",
     "start_time": "2019-05-13T09:03:02.079335Z"
    }
   },
   "outputs": [
    {
     "name": "stderr",
     "output_type": "stream",
     "text": [
      "/Users/xulian/anaconda3/lib/python3.6/site-packages/ipykernel_launcher.py:7: SettingWithCopyWarning: \n",
      "A value is trying to be set on a copy of a slice from a DataFrame.\n",
      "Try using .loc[row_indexer,col_indexer] = value instead\n",
      "\n",
      "See the caveats in the documentation: http://pandas.pydata.org/pandas-docs/stable/indexing.html#indexing-view-versus-copy\n",
      "  import sys\n",
      "/Users/xulian/anaconda3/lib/python3.6/site-packages/ipykernel_launcher.py:8: SettingWithCopyWarning: \n",
      "A value is trying to be set on a copy of a slice from a DataFrame.\n",
      "Try using .loc[row_indexer,col_indexer] = value instead\n",
      "\n",
      "See the caveats in the documentation: http://pandas.pydata.org/pandas-docs/stable/indexing.html#indexing-view-versus-copy\n",
      "  \n"
     ]
    },
    {
     "data": {
      "text/html": [
       "<div>\n",
       "<style scoped>\n",
       "    .dataframe tbody tr th:only-of-type {\n",
       "        vertical-align: middle;\n",
       "    }\n",
       "\n",
       "    .dataframe tbody tr th {\n",
       "        vertical-align: top;\n",
       "    }\n",
       "\n",
       "    .dataframe thead th {\n",
       "        text-align: right;\n",
       "    }\n",
       "</style>\n",
       "<table border=\"1\" class=\"dataframe\">\n",
       "  <thead>\n",
       "    <tr style=\"text-align: right;\">\n",
       "      <th></th>\n",
       "      <th>Team</th>\n",
       "      <th>Player</th>\n",
       "      <th>MP</th>\n",
       "      <th>BPM</th>\n",
       "      <th>Season</th>\n",
       "      <th>prev_school</th>\n",
       "      <th>new_school</th>\n",
       "      <th>prev_school_wide_bucket</th>\n",
       "      <th>new_school_wide_bucket</th>\n",
       "      <th>Type</th>\n",
       "      <th>obstacle</th>\n",
       "    </tr>\n",
       "  </thead>\n",
       "  <tbody>\n",
       "    <tr>\n",
       "      <th>396</th>\n",
       "      <td>memphis</td>\n",
       "      <td>Avery Woodson</td>\n",
       "      <td>840.0</td>\n",
       "      <td>4.9</td>\n",
       "      <td>2016</td>\n",
       "      <td>Memphis</td>\n",
       "      <td>Butler</td>\n",
       "      <td>High-Majors</td>\n",
       "      <td>High-Majors</td>\n",
       "      <td>graduate</td>\n",
       "      <td>30.4</td>\n",
       "    </tr>\n",
       "    <tr>\n",
       "      <th>1503</th>\n",
       "      <td>marquette</td>\n",
       "      <td>Duane Wilson</td>\n",
       "      <td>492.0</td>\n",
       "      <td>2.7</td>\n",
       "      <td>2017</td>\n",
       "      <td>Marquette</td>\n",
       "      <td>Texas A&amp;M</td>\n",
       "      <td>High-Majors</td>\n",
       "      <td>High-Majors</td>\n",
       "      <td>graduate</td>\n",
       "      <td>31.6</td>\n",
       "    </tr>\n",
       "    <tr>\n",
       "      <th>280</th>\n",
       "      <td>niagara</td>\n",
       "      <td>Antoine Mason</td>\n",
       "      <td>1242.0</td>\n",
       "      <td>-1.7</td>\n",
       "      <td>2014</td>\n",
       "      <td>Niagara</td>\n",
       "      <td>Auburn</td>\n",
       "      <td>Mid-Majors</td>\n",
       "      <td>High-Majors</td>\n",
       "      <td>graduate</td>\n",
       "      <td>18.9</td>\n",
       "    </tr>\n",
       "    <tr>\n",
       "      <th>3088</th>\n",
       "      <td>duquesne</td>\n",
       "      <td>L.G. Gill</td>\n",
       "      <td>1021.0</td>\n",
       "      <td>0.3</td>\n",
       "      <td>2016</td>\n",
       "      <td>Duquesne</td>\n",
       "      <td>Maryland</td>\n",
       "      <td>Mid-Majors</td>\n",
       "      <td>High-Majors</td>\n",
       "      <td>graduate</td>\n",
       "      <td>56.8</td>\n",
       "    </tr>\n",
       "    <tr>\n",
       "      <th>171</th>\n",
       "      <td>baylor</td>\n",
       "      <td>Allerik Freeman</td>\n",
       "      <td>743.0</td>\n",
       "      <td>5.3</td>\n",
       "      <td>2017</td>\n",
       "      <td>Baylor</td>\n",
       "      <td>NC State</td>\n",
       "      <td>High-Majors</td>\n",
       "      <td>High-Majors</td>\n",
       "      <td>graduate</td>\n",
       "      <td>0.0</td>\n",
       "    </tr>\n",
       "  </tbody>\n",
       "</table>\n",
       "</div>"
      ],
      "text/plain": [
       "           Team           Player      MP  BPM  Season prev_school new_school  \\\n",
       "396     memphis    Avery Woodson   840.0  4.9    2016     Memphis     Butler   \n",
       "1503  marquette     Duane Wilson   492.0  2.7    2017   Marquette  Texas A&M   \n",
       "280     niagara    Antoine Mason  1242.0 -1.7    2014     Niagara     Auburn   \n",
       "3088   duquesne        L.G. Gill  1021.0  0.3    2016    Duquesne   Maryland   \n",
       "171      baylor  Allerik Freeman   743.0  5.3    2017      Baylor   NC State   \n",
       "\n",
       "     prev_school_wide_bucket new_school_wide_bucket      Type  obstacle  \n",
       "396              High-Majors            High-Majors  graduate      30.4  \n",
       "1503             High-Majors            High-Majors  graduate      31.6  \n",
       "280               Mid-Majors            High-Majors  graduate      18.9  \n",
       "3088              Mid-Majors            High-Majors  graduate      56.8  \n",
       "171              High-Majors            High-Majors  graduate       0.0  "
      ]
     },
     "execution_count": 24,
     "metadata": {},
     "output_type": "execute_result"
    }
   ],
   "source": [
    "length_t, _ = transfer_last_season_df_above_median.shape\n",
    "info_list = []\n",
    "for i in range(length_t):\n",
    "    info_list.append([transfer_last_season_df_above_median.BPM.values[i],\n",
    "                      transfer_last_season_df_above_median.Season.values[i],\n",
    "                      transfer_last_season_df_above_median.new_school.values[i]])\n",
    "transfer_last_season_df_above_median[\"obstacle\"] = info_list\n",
    "transfer_last_season_df_above_median[\"obstacle\"] = transfer_last_season_df_above_median[\"obstacle\"].apply(lambda x: getobstacle(x))\n",
    "transfer_last_season_df_above_median.head()"
   ]
  },
  {
   "cell_type": "code",
   "execution_count": 25,
   "metadata": {
    "ExecuteTime": {
     "end_time": "2019-05-13T09:03:03.599435Z",
     "start_time": "2019-05-13T09:03:03.586505Z"
    }
   },
   "outputs": [
    {
     "data": {
      "text/plain": [
       "prev_school_wide_bucket  new_school_wide_bucket\n",
       "High-Majors              High-Majors               32.95\n",
       "Low-Majors               High-Majors               39.10\n",
       "                         Mid-Majors                14.60\n",
       "Mid-Majors               High-Majors               36.80\n",
       "                         Mid-Majors                13.30\n",
       "Name: obstacle, dtype: float64"
      ]
     },
     "execution_count": 25,
     "metadata": {},
     "output_type": "execute_result"
    }
   ],
   "source": [
    "# Get the median obstacle for each scenario\n",
    "transfer_last_season_df_above_median.groupby(by = [\"prev_school_wide_bucket\",\n",
    "                                                   \"new_school_wide_bucket\"])\\\n",
    "                                    .obstacle.median()"
   ]
  },
  {
   "cell_type": "code",
   "execution_count": 26,
   "metadata": {
    "ExecuteTime": {
     "end_time": "2019-05-13T09:03:03.606467Z",
     "start_time": "2019-05-13T09:03:03.602216Z"
    }
   },
   "outputs": [],
   "source": [
    "# # Save Dataset to transfer_last_season_df_above_median.csv \n",
    "# # for next step of data visualization\n",
    "# transfer_last_season_df_above_median.to_csv(\"transfer_last_season_df_above_median.csv\", index=False)"
   ]
  },
  {
   "cell_type": "markdown",
   "metadata": {},
   "source": [
    "## Data Visualization"
   ]
  },
  {
   "cell_type": "markdown",
   "metadata": {},
   "source": [
    "By using Tableau, below is the boxplot."
   ]
  },
  {
   "cell_type": "markdown",
   "metadata": {},
   "source": [
    "<img src=\"Boxplot.png\">"
   ]
  }
 ],
 "metadata": {
  "kernelspec": {
   "display_name": "Python 3",
   "language": "python",
   "name": "python3"
  },
  "language_info": {
   "codemirror_mode": {
    "name": "ipython",
    "version": 3
   },
   "file_extension": ".py",
   "mimetype": "text/x-python",
   "name": "python",
   "nbconvert_exporter": "python",
   "pygments_lexer": "ipython3",
   "version": "3.6.7"
  }
 },
 "nbformat": 4,
 "nbformat_minor": 2
}
