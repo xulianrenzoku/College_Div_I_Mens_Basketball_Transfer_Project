{
 "cells": [
  {
   "cell_type": "code",
   "execution_count": 1,
   "metadata": {
    "ExecuteTime": {
     "end_time": "2019-05-13T09:05:15.827879Z",
     "start_time": "2019-05-13T09:05:15.305772Z"
    }
   },
   "outputs": [],
   "source": [
    "import pandas as pd\n",
    "import numpy as np\n",
    "from IPython.core.pylabtools import figsize\n",
    "from matplotlib import pyplot as plt\n",
    "from collections import Counter"
   ]
  },
  {
   "cell_type": "markdown",
   "metadata": {},
   "source": [
    "## Load the dataset"
   ]
  },
  {
   "cell_type": "code",
   "execution_count": 2,
   "metadata": {
    "ExecuteTime": {
     "end_time": "2019-05-13T09:05:15.890149Z",
     "start_time": "2019-05-13T09:05:15.830676Z"
    }
   },
   "outputs": [
    {
     "data": {
      "text/plain": [
       "(4891, 48)"
      ]
     },
     "execution_count": 2,
     "metadata": {},
     "output_type": "execute_result"
    }
   ],
   "source": [
    "# Load the transfer dataset\n",
    "transfer_df = pd.read_csv(\"../../TransfersWithStats.csv\")\\\n",
    "                .drop(\"Unnamed: 0\", axis=1)\n",
    "transfer_df.shape"
   ]
  },
  {
   "cell_type": "code",
   "execution_count": 3,
   "metadata": {
    "ExecuteTime": {
     "end_time": "2019-05-13T09:05:15.907125Z",
     "start_time": "2019-05-13T09:05:15.891953Z"
    }
   },
   "outputs": [
    {
     "data": {
      "text/plain": [
       "361"
      ]
     },
     "execution_count": 3,
     "metadata": {},
     "output_type": "execute_result"
    }
   ],
   "source": [
    "# Load the bucket dataset\n",
    "bucket_df = pd.read_csv(\"../../Corrected_School_List_Buckets.csv\")\\\n",
    "            [[\"TeamName\",'Definitive Bucket']]\n",
    "len(bucket_df) # number of Div. I schools"
   ]
  },
  {
   "cell_type": "markdown",
   "metadata": {},
   "source": [
    "## Bucket Functions"
   ]
  },
  {
   "cell_type": "code",
   "execution_count": 4,
   "metadata": {
    "ExecuteTime": {
     "end_time": "2019-05-13T09:05:15.915874Z",
     "start_time": "2019-05-13T09:05:15.910186Z"
    }
   },
   "outputs": [
    {
     "name": "stdout",
     "output_type": "stream",
     "text": [
      "5\n",
      "0\n"
     ]
    }
   ],
   "source": [
    "# Define a function that gets the rating of a program\n",
    "def get_bucket(school):\n",
    "    if school in bucket_df.TeamName.values:\n",
    "        return bucket_df[bucket_df.TeamName == school]\\\n",
    "                        [\"Definitive Bucket\"].values[0]\n",
    "    else:\n",
    "        return 0\n",
    "print(get_bucket(\"San Francisco\")) # test a Div.I program\n",
    "print(get_bucket(\"BYU-Hawaii\")) # test a non-Div.I program"
   ]
  },
  {
   "cell_type": "code",
   "execution_count": 5,
   "metadata": {
    "ExecuteTime": {
     "end_time": "2019-05-13T09:05:15.925745Z",
     "start_time": "2019-05-13T09:05:15.920372Z"
    }
   },
   "outputs": [
    {
     "name": "stdout",
     "output_type": "stream",
     "text": [
      "High-Majors\n"
     ]
    }
   ],
   "source": [
    "# Define a function that puts 1-9 scale into 3 wide buckets\n",
    "def getWideBucket(num):\n",
    "    if num < 4:\n",
    "        return \"Low-Majors\"\n",
    "    elif num < 7:\n",
    "        return \"Mid-Majors\"\n",
    "    else:\n",
    "        return \"High-Majors\"\n",
    "\n",
    "print(getWideBucket(9))"
   ]
  },
  {
   "cell_type": "markdown",
   "metadata": {},
   "source": [
    "## Data-Preprocessing"
   ]
  },
  {
   "cell_type": "code",
   "execution_count": 6,
   "metadata": {
    "ExecuteTime": {
     "end_time": "2019-05-13T09:05:15.938470Z",
     "start_time": "2019-05-13T09:05:15.928288Z"
    }
   },
   "outputs": [
    {
     "name": "stdout",
     "output_type": "stream",
     "text": [
      "4891 4569\n"
     ]
    }
   ],
   "source": [
    "# Filter out bad match\n",
    "transfer_df_adj = transfer_df[(transfer_df.Team == \\\n",
    "                               transfer_df.new_school_alias_match_pl) |\n",
    "                              (transfer_df.Team == \\\n",
    "                               transfer_df.prev_school_alias_match_pl)]\n",
    "print(transfer_df.shape[0], transfer_df_adj.shape[0])"
   ]
  },
  {
   "cell_type": "code",
   "execution_count": 7,
   "metadata": {
    "ExecuteTime": {
     "end_time": "2019-05-13T09:05:20.974572Z",
     "start_time": "2019-05-13T09:05:15.940665Z"
    }
   },
   "outputs": [
    {
     "name": "stderr",
     "output_type": "stream",
     "text": [
      "/Users/xulian/anaconda3/lib/python3.6/site-packages/ipykernel_launcher.py:5: SettingWithCopyWarning: \n",
      "A value is trying to be set on a copy of a slice from a DataFrame.\n",
      "Try using .loc[row_indexer,col_indexer] = value instead\n",
      "\n",
      "See the caveats in the documentation: http://pandas.pydata.org/pandas-docs/stable/indexing.html#indexing-view-versus-copy\n",
      "  \"\"\"\n",
      "/Users/xulian/anaconda3/lib/python3.6/site-packages/ipykernel_launcher.py:8: SettingWithCopyWarning: \n",
      "A value is trying to be set on a copy of a slice from a DataFrame.\n",
      "Try using .loc[row_indexer,col_indexer] = value instead\n",
      "\n",
      "See the caveats in the documentation: http://pandas.pydata.org/pandas-docs/stable/indexing.html#indexing-view-versus-copy\n",
      "  \n"
     ]
    }
   ],
   "source": [
    "# Get bucket for each row\n",
    "transfer_df_adj2 = transfer_df[transfer_df.Player != 'Anthony Horton']\n",
    "transfer_df_adj2[\"prev_school_bucket\"] = transfer_df_adj2.prev_school\\\n",
    "                                                         .apply(lambda x: x.replace('UNCG', 'UNC Greensboro'))\\\n",
    "                                                         .apply(get_bucket)\n",
    "transfer_df_adj2[\"new_school_bucket\"] = transfer_df_adj2.new_school\\\n",
    "                                                        .apply(lambda x: x.replace('UNCG', 'UNC Greensboro'))\\\n",
    "                                                        .apply(get_bucket)"
   ]
  },
  {
   "cell_type": "code",
   "execution_count": 8,
   "metadata": {
    "ExecuteTime": {
     "end_time": "2019-05-13T09:05:20.988299Z",
     "start_time": "2019-05-13T09:05:20.976735Z"
    }
   },
   "outputs": [
    {
     "name": "stdout",
     "output_type": "stream",
     "text": [
      "(4886, 50)\n",
      "128\n",
      "(4758, 50)\n"
     ]
    }
   ],
   "source": [
    "# Take out players that show up for only one row\n",
    "print(transfer_df_adj2.shape)\n",
    "transfer_season_cnt = Counter(transfer_df_adj2.Player)\n",
    "single_season_player_list = []\n",
    "for player in list(set(transfer_df_adj2.Player)):\n",
    "    if transfer_season_cnt[player] < 2:\n",
    "        single_season_player_list.append(player)\n",
    "print(len(single_season_player_list))\n",
    "transfer_df_adj3 = transfer_df_adj2[~transfer_df_adj2.Player.isin(single_season_player_list)]\n",
    "print(transfer_df_adj3.shape)"
   ]
  },
  {
   "cell_type": "code",
   "execution_count": 9,
   "metadata": {
    "ExecuteTime": {
     "end_time": "2019-05-13T09:05:21.001288Z",
     "start_time": "2019-05-13T09:05:20.991583Z"
    }
   },
   "outputs": [
    {
     "data": {
      "text/plain": [
       "(4127, 50)"
      ]
     },
     "execution_count": 9,
     "metadata": {},
     "output_type": "execute_result"
    }
   ],
   "source": [
    "# Filter out the 2018 record\n",
    "transfer_df_adj4 = transfer_df_adj3[transfer_df_adj3.tr_yr != 2018]\n",
    "transfer_df_adj4.shape"
   ]
  },
  {
   "cell_type": "code",
   "execution_count": 10,
   "metadata": {
    "ExecuteTime": {
     "end_time": "2019-05-13T09:05:21.034150Z",
     "start_time": "2019-05-13T09:05:21.003763Z"
    }
   },
   "outputs": [
    {
     "name": "stdout",
     "output_type": "stream",
     "text": [
      "50\n",
      "50\n",
      "1084\n",
      "1084\n"
     ]
    },
    {
     "name": "stderr",
     "output_type": "stream",
     "text": [
      "/Users/xulian/anaconda3/lib/python3.6/site-packages/ipykernel_launcher.py:12: UserWarning: Boolean Series key will be reindexed to match DataFrame index.\n",
      "  if sys.path[0] == '':\n"
     ]
    }
   ],
   "source": [
    "# Number of new school player should be the same as \n",
    "# that of old school player\n",
    "transfer_df_new_skl = transfer_df_adj4[transfer_df_adj4.Team == \\\n",
    "                                       transfer_df_adj4.new_school_alias_match_pl]\n",
    "transfer_df_old_skl = transfer_df_adj4[transfer_df_adj4.Team == \\\n",
    "                                       transfer_df_adj4.prev_school_alias_match_pl]\n",
    "print(len(set(transfer_df_new_skl)))\n",
    "print(len(set(transfer_df_old_skl)))\n",
    "diff1 = list(set(transfer_df_new_skl.Player) - set(transfer_df_old_skl.Player))\n",
    "diff2 = list(set(transfer_df_old_skl.Player) - set(transfer_df_new_skl.Player))\n",
    "transfer_df_adj5 = transfer_df_adj4[~transfer_df_adj4.Player.isin(diff1)]\n",
    "transfer_df_adj6 =transfer_df_adj5[~transfer_df_adj4.Player.isin(diff2)]\n",
    "print(len(set(transfer_df_adj6[transfer_df_adj6.Team == \\\n",
    "                               transfer_df_adj6.new_school_alias_match_pl].Player)))\n",
    "print(len(set(transfer_df_adj6[transfer_df_adj6.Team == \\\n",
    "                               transfer_df_adj6.prev_school_alias_match_pl].Player)))"
   ]
  },
  {
   "cell_type": "code",
   "execution_count": 11,
   "metadata": {
    "ExecuteTime": {
     "end_time": "2019-05-13T09:05:21.066120Z",
     "start_time": "2019-05-13T09:05:21.036260Z"
    }
   },
   "outputs": [
    {
     "data": {
      "text/plain": [
       "Int64Index([  49,   50,   51,  348,  349,  350,  351,  352,  353,  365,\n",
       "            ...\n",
       "            4760, 4761, 4762, 4807, 4808, 4809, 4810, 4874, 4875, 4876],\n",
       "           dtype='int64', length=165)"
      ]
     },
     "execution_count": 11,
     "metadata": {},
     "output_type": "execute_result"
    }
   ],
   "source": [
    "# Investigate graduate transfer\n",
    "imm_eligible_transfer_df = transfer_df_adj6[transfer_df_adj6.imm_eligible == 1]\n",
    "imm_eligible_transfer_new_skl = imm_eligible_transfer_df[imm_eligible_transfer_df.Team == \\\n",
    "                                                         imm_eligible_transfer_df.new_school_alias_match_pl]\n",
    "anomaly_player_list = []\n",
    "for player in Counter(imm_eligible_transfer_new_skl.Player):\n",
    "    if Counter(imm_eligible_transfer_new_skl.Player)[player] > 1:\n",
    "        anomaly_player_list.append(player)\n",
    "        \n",
    "# Adjust\n",
    "transfer_df_adj6[transfer_df_adj6.Player.isin(anomaly_player_list)].index"
   ]
  },
  {
   "cell_type": "code",
   "execution_count": 12,
   "metadata": {
    "ExecuteTime": {
     "end_time": "2019-05-13T09:05:25.811416Z",
     "start_time": "2019-05-13T09:05:21.069283Z"
    }
   },
   "outputs": [
    {
     "name": "stderr",
     "output_type": "stream",
     "text": [
      "/Users/xulian/anaconda3/lib/python3.6/site-packages/pandas/core/indexing.py:543: SettingWithCopyWarning: \n",
      "A value is trying to be set on a copy of a slice from a DataFrame.\n",
      "Try using .loc[row_indexer,col_indexer] = value instead\n",
      "\n",
      "See the caveats in the documentation: http://pandas.pydata.org/pandas-docs/stable/indexing.html#indexing-view-versus-copy\n",
      "  self.obj[item] = s\n"
     ]
    }
   ],
   "source": [
    "# adjust the false 'graduate transfers' back to 'sit-out transfers'\n",
    "for idx in transfer_df_adj6[transfer_df_adj6.Player.isin(anomaly_player_list)].index:\n",
    "    transfer_df_adj6.loc[idx, 'imm_eligible'] = 0"
   ]
  },
  {
   "cell_type": "code",
   "execution_count": 13,
   "metadata": {
    "ExecuteTime": {
     "end_time": "2019-05-13T09:05:25.835631Z",
     "start_time": "2019-05-13T09:05:25.814028Z"
    }
   },
   "outputs": [],
   "source": [
    "# Test if there is an anomaly again\n",
    "imm_eligible_transfer_df = transfer_df_adj6[transfer_df_adj6.imm_eligible == 1]\n",
    "imm_eligible_transfer_new_skl = imm_eligible_transfer_df[imm_eligible_transfer_df.Team == \\\n",
    "                                                         imm_eligible_transfer_df.new_school_alias_match_pl]\n",
    "for player in Counter(imm_eligible_transfer_new_skl.Player):\n",
    "    if Counter(imm_eligible_transfer_new_skl.Player)[player] > 1:\n",
    "        print(player)"
   ]
  },
  {
   "cell_type": "code",
   "execution_count": 14,
   "metadata": {
    "ExecuteTime": {
     "end_time": "2019-05-13T09:05:25.845587Z",
     "start_time": "2019-05-13T09:05:25.837725Z"
    }
   },
   "outputs": [],
   "source": [
    "# Create two different dataframes\n",
    "# One for graudate transfers\n",
    "# One for sit-out transfers\n",
    "graduate_transfer_df = transfer_df_adj6[transfer_df_adj6.imm_eligible == 1]\n",
    "sit_out_transfer_df = transfer_df_adj6[transfer_df_adj6.imm_eligible == 0]"
   ]
  },
  {
   "cell_type": "code",
   "execution_count": 15,
   "metadata": {
    "ExecuteTime": {
     "end_time": "2019-05-13T09:05:25.853337Z",
     "start_time": "2019-05-13T09:05:25.848258Z"
    }
   },
   "outputs": [
    {
     "name": "stdout",
     "output_type": "stream",
     "text": [
      "Number of graduate transfers: 268\n",
      "Number of sit out transfers: 826\n"
     ]
    }
   ],
   "source": [
    "graduate_transfer_list = list(set(graduate_transfer_df.Player))\n",
    "print(f\"Number of graduate transfers: {len(graduate_transfer_list)}\")\n",
    "sit_out_transfer_list = list(set(sit_out_transfer_df.Player))\n",
    "print(f\"Number of sit out transfers: {len(sit_out_transfer_list)}\")"
   ]
  },
  {
   "cell_type": "code",
   "execution_count": 16,
   "metadata": {
    "ExecuteTime": {
     "end_time": "2019-05-13T09:05:26.739550Z",
     "start_time": "2019-05-13T09:05:25.856078Z"
    }
   },
   "outputs": [
    {
     "name": "stderr",
     "output_type": "stream",
     "text": [
      "/Users/xulian/anaconda3/lib/python3.6/site-packages/ipykernel_launcher.py:6: UserWarning: Boolean Series key will be reindexed to match DataFrame index.\n",
      "  \n"
     ]
    },
    {
     "data": {
      "text/plain": [
       "(266, 52)"
      ]
     },
     "execution_count": 16,
     "metadata": {},
     "output_type": "execute_result"
    }
   ],
   "source": [
    "# Get last pre-transfer season BPM for graduate transfers\n",
    "graduate_transfer_df_list = []\n",
    "for player in graduate_transfer_list:\n",
    "    temp_df = graduate_transfer_df[graduate_transfer_df.Player == player]\n",
    "    temp_df_adj = temp_df[temp_df.Team == temp_df.prev_school_alias_match_pl]\n",
    "    temp_df_adj2 = temp_df_adj[temp_df.Season == temp_df_adj.Season.max()]\n",
    "    graduate_transfer_df_list.append(temp_df_adj2)\n",
    "graduate_transfer_last_season_df = pd.concat(graduate_transfer_df_list)\n",
    "graduate_transfer_last_season_df[\"prev_school_wide_bucket\"] = graduate_transfer_last_season_df.prev_school_bucket\\\n",
    "                                                                                            .apply(lambda x: getWideBucket(x))\n",
    "graduate_transfer_last_season_df[\"new_school_wide_bucket\"] = graduate_transfer_last_season_df.new_school_bucket\\\n",
    "                                                                                            .apply(lambda x: getWideBucket(x))\n",
    "graduate_transfer_last_season_df.shape"
   ]
  },
  {
   "cell_type": "code",
   "execution_count": 17,
   "metadata": {
    "ExecuteTime": {
     "end_time": "2019-05-13T09:05:29.471729Z",
     "start_time": "2019-05-13T09:05:26.741977Z"
    }
   },
   "outputs": [
    {
     "name": "stderr",
     "output_type": "stream",
     "text": [
      "/Users/xulian/anaconda3/lib/python3.6/site-packages/ipykernel_launcher.py:6: UserWarning: Boolean Series key will be reindexed to match DataFrame index.\n",
      "  \n"
     ]
    },
    {
     "data": {
      "text/plain": [
       "(822, 52)"
      ]
     },
     "execution_count": 17,
     "metadata": {},
     "output_type": "execute_result"
    }
   ],
   "source": [
    "# Get last pre-transfer season BPM for sit out transfers\n",
    "sit_out_transfer_df_list = []\n",
    "for player in sit_out_transfer_list:\n",
    "    temp_df = sit_out_transfer_df[sit_out_transfer_df.Player == player]\n",
    "    temp_df_adj = temp_df[temp_df.Team == temp_df.prev_school_alias_match_pl]\n",
    "    temp_df_adj2 = temp_df_adj[temp_df.Season == temp_df_adj.Season.max()]\n",
    "    sit_out_transfer_df_list.append(temp_df_adj2)\n",
    "sit_out_transfer_last_season_df = pd.concat(sit_out_transfer_df_list)\n",
    "sit_out_transfer_last_season_df[\"prev_school_wide_bucket\"] = sit_out_transfer_last_season_df.prev_school_bucket\\\n",
    "                                                                                            .apply(lambda x: getWideBucket(x))\n",
    "sit_out_transfer_last_season_df[\"new_school_wide_bucket\"] = sit_out_transfer_last_season_df.new_school_bucket\\\n",
    "                                                                                            .apply(lambda x: getWideBucket(x))\n",
    "\n",
    "sit_out_transfer_last_season_df.shape"
   ]
  },
  {
   "cell_type": "code",
   "execution_count": 18,
   "metadata": {
    "ExecuteTime": {
     "end_time": "2019-05-13T09:05:29.569120Z",
     "start_time": "2019-05-13T09:05:29.476426Z"
    }
   },
   "outputs": [
    {
     "name": "stderr",
     "output_type": "stream",
     "text": [
      "/Users/xulian/anaconda3/lib/python3.6/site-packages/ipykernel_launcher.py:6: SettingWithCopyWarning: \n",
      "A value is trying to be set on a copy of a slice from a DataFrame.\n",
      "Try using .loc[row_indexer,col_indexer] = value instead\n",
      "\n",
      "See the caveats in the documentation: http://pandas.pydata.org/pandas-docs/stable/indexing.html#indexing-view-versus-copy\n",
      "  \n",
      "/Users/xulian/anaconda3/lib/python3.6/site-packages/ipykernel_launcher.py:11: SettingWithCopyWarning: \n",
      "A value is trying to be set on a copy of a slice from a DataFrame.\n",
      "Try using .loc[row_indexer,col_indexer] = value instead\n",
      "\n",
      "See the caveats in the documentation: http://pandas.pydata.org/pandas-docs/stable/indexing.html#indexing-view-versus-copy\n",
      "  # This is added back by InteractiveShellApp.init_path()\n"
     ]
    },
    {
     "data": {
      "text/plain": [
       "(1088, 10)"
      ]
     },
     "execution_count": 18,
     "metadata": {},
     "output_type": "execute_result"
    }
   ],
   "source": [
    "# Merge graduate transfers and sit out transfers into one dataframe\n",
    "graduate_transfer_last_season_df_adj = graduate_transfer_last_season_df[[\"Team\", \"Player\", \"MP\", \"BPM\", \"Season\",\n",
    "                                                                         \"prev_school\", \"new_school\", \n",
    "                                                                         \"prev_school_wide_bucket\", \n",
    "                                                                         \"new_school_wide_bucket\"]]\n",
    "graduate_transfer_last_season_df_adj[\"Type\"] = \"graduate\"\n",
    "sit_out_transfer_last_season_df_adj = sit_out_transfer_last_season_df[[\"Team\", \"Player\", \"MP\", \"BPM\", \"Season\",\n",
    "                                                                       \"prev_school\", \"new_school\", \n",
    "                                                                       \"prev_school_wide_bucket\", \n",
    "                                                                       \"new_school_wide_bucket\"]]\n",
    "sit_out_transfer_last_season_df_adj[\"Type\"] = \"sit out\"\n",
    "transfer_last_season_df = pd.concat([graduate_transfer_last_season_df_adj,\n",
    "                                     sit_out_transfer_last_season_df_adj])\n",
    "transfer_last_season_df.shape"
   ]
  },
  {
   "cell_type": "code",
   "execution_count": 19,
   "metadata": {
    "ExecuteTime": {
     "end_time": "2019-05-13T09:05:29.588844Z",
     "start_time": "2019-05-13T09:05:29.572159Z"
    }
   },
   "outputs": [
    {
     "data": {
      "text/plain": [
       "(454, 10)"
      ]
     },
     "execution_count": 19,
     "metadata": {},
     "output_type": "execute_result"
    }
   ],
   "source": [
    "# Get transfers who 'transferred up'\n",
    "# Below are the Scenarios\n",
    "# High -> High\n",
    "# Mid -> High\n",
    "# Mid -> Mid\n",
    "# Low -> High\n",
    "# Low -> Mid\n",
    "\n",
    "transfer_last_season_df_adj1 = transfer_last_season_df[transfer_last_season_df.new_school_wide_bucket \\\n",
    "                                                       == 'High-Majors']\n",
    "transfer_last_season_df_adj2 = transfer_last_season_df[(transfer_last_season_df.new_school_wide_bucket \\\n",
    "                                                        == 'Mid-Majors') &\n",
    "                                                       (transfer_last_season_df.prev_school_wide_bucket \\\n",
    "                                                        != 'High-Majors')]\n",
    "transfer_last_season_df_adj = pd.concat([transfer_last_season_df_adj1, transfer_last_season_df_adj2])\n",
    "transfer_last_season_df_adj = transfer_last_season_df_adj[transfer_last_season_df_adj.MP > 100]\n",
    "transfer_last_season_df_adj.shape"
   ]
  },
  {
   "cell_type": "markdown",
   "metadata": {},
   "source": [
    "## Data Visualization"
   ]
  },
  {
   "cell_type": "markdown",
   "metadata": {},
   "source": [
    "By using matplotlib, below is the histogram."
   ]
  },
  {
   "cell_type": "code",
   "execution_count": 20,
   "metadata": {
    "ExecuteTime": {
     "end_time": "2019-05-13T09:05:29.841057Z",
     "start_time": "2019-05-13T09:05:29.591120Z"
    }
   },
   "outputs": [
    {
     "data": {
      "text/plain": [
       "Text(0.5, 1.0, \"Histogram of 'Transfer Up' Players' BPM \\nin Their Last Pre-Transfer Season\\n(2012-2017)\")"
      ]
     },
     "execution_count": 20,
     "metadata": {},
     "output_type": "execute_result"
    },
    {
     "data": {
      "image/png": "[encoded data removed]",
      "text/plain": [
       "<Figure size 720x432 with 1 Axes>"
      ]
     },
     "metadata": {
      "needs_background": "light"
     },
     "output_type": "display_data"
    }
   ],
   "source": [
    "figsize(10,6)\n",
    "plt.hist(transfer_last_season_df_adj.BPM)\n",
    "plt.plot([-1.9, -1.9], [0, 100], '--', lw=1, \n",
    "         color = 'black', label = \"NCAA Div.I Median BPM: -1.9\")\n",
    "plt.xlabel('BPM in Last Pre-Transfer Season')\n",
    "plt.ylabel('Number of Transfers')\n",
    "plt.legend(loc='upper left')\n",
    "plt.title(\"Histogram of 'Transfer Up' Players' BPM \\nin Their Last Pre-Transfer Season\\n(2012-2017)\")"
   ]
  },
  {
   "cell_type": "markdown",
   "metadata": {},
   "source": [
    "The overall distribution of the 'Transfer Up' players' last pre-transfer season's BPM is approximately normal, with the mode being higher than the Div.I median (-1.9) from 2012-2017.  "
   ]
  },
  {
   "cell_type": "markdown",
   "metadata": {},
   "source": [
    "It is noticeable that some of the 'Transfer Up' players have terrible BPM. So, it is necessary to further investigate these mediorce samples, especially the ones who transferred up to the High-Majors."
   ]
  },
  {
   "cell_type": "code",
   "execution_count": 21,
   "metadata": {
    "ExecuteTime": {
     "end_time": "2019-05-13T09:05:29.859315Z",
     "start_time": "2019-05-13T09:05:29.843745Z"
    }
   },
   "outputs": [
    {
     "data": {
      "text/html": [
       "<div>\n",
       "<style scoped>\n",
       "    .dataframe tbody tr th:only-of-type {\n",
       "        vertical-align: middle;\n",
       "    }\n",
       "\n",
       "    .dataframe tbody tr th {\n",
       "        vertical-align: top;\n",
       "    }\n",
       "\n",
       "    .dataframe thead th {\n",
       "        text-align: right;\n",
       "    }\n",
       "</style>\n",
       "<table border=\"1\" class=\"dataframe\">\n",
       "  <thead>\n",
       "    <tr style=\"text-align: right;\">\n",
       "      <th></th>\n",
       "      <th>Team</th>\n",
       "      <th>Player</th>\n",
       "      <th>MP</th>\n",
       "      <th>BPM</th>\n",
       "      <th>Season</th>\n",
       "      <th>prev_school</th>\n",
       "      <th>new_school</th>\n",
       "      <th>prev_school_wide_bucket</th>\n",
       "      <th>new_school_wide_bucket</th>\n",
       "      <th>Type</th>\n",
       "    </tr>\n",
       "  </thead>\n",
       "  <tbody>\n",
       "    <tr>\n",
       "      <th>462</th>\n",
       "      <td>robert-morris</td>\n",
       "      <td>Braden Burke</td>\n",
       "      <td>487.0</td>\n",
       "      <td>-9.4</td>\n",
       "      <td>2017</td>\n",
       "      <td>Robert Morris</td>\n",
       "      <td>Michigan State</td>\n",
       "      <td>Low-Majors</td>\n",
       "      <td>High-Majors</td>\n",
       "      <td>sit out</td>\n",
       "    </tr>\n",
       "    <tr>\n",
       "      <th>696</th>\n",
       "      <td>lipscomb</td>\n",
       "      <td>Carter Sanderson</td>\n",
       "      <td>360.0</td>\n",
       "      <td>-8.6</td>\n",
       "      <td>2014</td>\n",
       "      <td>Lipscomb</td>\n",
       "      <td>Syracuse</td>\n",
       "      <td>Low-Majors</td>\n",
       "      <td>High-Majors</td>\n",
       "      <td>graduate</td>\n",
       "    </tr>\n",
       "    <tr>\n",
       "      <th>3056</th>\n",
       "      <td>chicago-state</td>\n",
       "      <td>Kurt Karis</td>\n",
       "      <td>294.0</td>\n",
       "      <td>-8.4</td>\n",
       "      <td>2015</td>\n",
       "      <td>Chicago State</td>\n",
       "      <td>USC</td>\n",
       "      <td>Low-Majors</td>\n",
       "      <td>High-Majors</td>\n",
       "      <td>sit out</td>\n",
       "    </tr>\n",
       "    <tr>\n",
       "      <th>2345</th>\n",
       "      <td>houston-baptist</td>\n",
       "      <td>Jimmy Barton</td>\n",
       "      <td>516.0</td>\n",
       "      <td>-8.4</td>\n",
       "      <td>2014</td>\n",
       "      <td>Houston Baptist</td>\n",
       "      <td>Missouri</td>\n",
       "      <td>Low-Majors</td>\n",
       "      <td>High-Majors</td>\n",
       "      <td>sit out</td>\n",
       "    </tr>\n",
       "  </tbody>\n",
       "</table>\n",
       "</div>"
      ],
      "text/plain": [
       "                 Team            Player     MP  BPM  Season      prev_school  \\\n",
       "462     robert-morris      Braden Burke  487.0 -9.4    2017    Robert Morris   \n",
       "696          lipscomb  Carter Sanderson  360.0 -8.6    2014         Lipscomb   \n",
       "3056    chicago-state        Kurt Karis  294.0 -8.4    2015    Chicago State   \n",
       "2345  houston-baptist      Jimmy Barton  516.0 -8.4    2014  Houston Baptist   \n",
       "\n",
       "          new_school prev_school_wide_bucket new_school_wide_bucket      Type  \n",
       "462   Michigan State              Low-Majors            High-Majors   sit out  \n",
       "696         Syracuse              Low-Majors            High-Majors  graduate  \n",
       "3056             USC              Low-Majors            High-Majors   sit out  \n",
       "2345        Missouri              Low-Majors            High-Majors   sit out  "
      ]
     },
     "execution_count": 21,
     "metadata": {},
     "output_type": "execute_result"
    }
   ],
   "source": [
    "high_major_transfer_up_df = transfer_last_season_df_adj[transfer_last_season_df_adj.new_school_wide_bucket == 'High-Majors']\n",
    "high_major_transfer_up_df.sort_values('BPM').head(4)"
   ]
  },
  {
   "cell_type": "markdown",
   "metadata": {},
   "source": [
    "After sorting the BPM, it seems there are a few players who transferred up to High-Majors with terrible BPM are actually walk-ons. Therefore, for further analysis, these walk-ons have to be filtered out."
   ]
  }
 ],
 "metadata": {
  "kernelspec": {
   "display_name": "Python 3",
   "language": "python",
   "name": "python3"
  },
  "language_info": {
   "codemirror_mode": {
    "name": "ipython",
    "version": 3
   },
   "file_extension": ".py",
   "mimetype": "text/x-python",
   "name": "python",
   "nbconvert_exporter": "python",
   "pygments_lexer": "ipython3",
   "version": "3.6.7"
  }
 },
 "nbformat": 4,
 "nbformat_minor": 2
}
